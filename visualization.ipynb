{
 "cells": [
  {
   "cell_type": "code",
   "execution_count": 120,
   "metadata": {},
   "outputs": [],
   "source": [
    "# Packages\n",
    "import pandas as pd\n",
    "from pandas.api.types import CategoricalDtype\n",
    "import plotly.express as px\n",
    "import seaborn as sns\n",
    "import os\n",
    "# for data transformation \n",
    "import numpy as np \n",
    "# for visualizing the data \n",
    "import matplotlib.pyplot as plt \n",
    "from matplotlib import cm\n",
    "from joypy import joyplot\n",
    "# for opening the media file \n",
    "import scipy.io.wavfile as wavfile"
   ]
  },
  {
   "cell_type": "code",
   "execution_count": 121,
   "metadata": {},
   "outputs": [],
   "source": [
    "# Data\n",
    "df = pd.read_excel('df_project2_nodubs.xlsx')"
   ]
  },
  {
   "cell_type": "code",
   "execution_count": 122,
   "metadata": {},
   "outputs": [
    {
     "data": {
      "text/plain": [
       "11"
      ]
     },
     "execution_count": 122,
     "metadata": {},
     "output_type": "execute_result"
    }
   ],
   "source": [
    "((df.groupby('Clip_ID')['Rating'].mean() >= 1) & (df.groupby('Clip_ID')['Rating'].mean() <= 2)).sum()"
   ]
  },
  {
   "cell_type": "code",
   "execution_count": 123,
   "metadata": {},
   "outputs": [
    {
     "data": {
      "text/plain": [
       "64"
      ]
     },
     "execution_count": 123,
     "metadata": {},
     "output_type": "execute_result"
    }
   ],
   "source": [
    "((df.groupby('Clip_ID')['Rating'].mean() > 2) & (df.groupby('Clip_ID')['Rating'].mean() <= 3)).sum()"
   ]
  },
  {
   "cell_type": "code",
   "execution_count": 124,
   "metadata": {},
   "outputs": [
    {
     "data": {
      "text/plain": [
       "50"
      ]
     },
     "execution_count": 124,
     "metadata": {},
     "output_type": "execute_result"
    }
   ],
   "source": [
    "((df.groupby('Clip_ID')['Rating'].mean() > 3) & (df.groupby('Clip_ID')['Rating'].mean() <= 4)).sum()"
   ]
  },
  {
   "cell_type": "code",
   "execution_count": 125,
   "metadata": {},
   "outputs": [
    {
     "data": {
      "text/plain": [
       "1"
      ]
     },
     "execution_count": 125,
     "metadata": {},
     "output_type": "execute_result"
    }
   ],
   "source": [
    "((df.groupby('Clip_ID')['Rating'].mean() > 4) & (df.groupby('Clip_ID')['Rating'].mean() <= 5)).sum()"
   ]
  },
  {
   "cell_type": "code",
   "execution_count": 126,
   "metadata": {},
   "outputs": [
    {
     "data": {
      "text/plain": [
       "Index(['101c', '102c', '103c', '105c', '107c', '10c', '110c', '111c', '112c',\n",
       "       '113c', '114c', '116c', '117c', '118c', '119c', '11c', '120c', '122c',\n",
       "       '123c', '124c', '125c', '126c', '127c', '128c', '12c', '13c', '14c',\n",
       "       '15c', '16c', '17c', '18c', '1c', '25c', '26c', '28c', '30c', '31c',\n",
       "       '32c', '33c', '34c', '35c', '37c', '38c', '39c', '40c', '41c', '42c',\n",
       "       '43c', '44c', '45c', '47c', '48c', '49c', '4c', '50c', '51c', '52c',\n",
       "       '53c', '54c', '55c', '56c', '58c', '59c', '5c', '61c', '62c', '63c',\n",
       "       '64c', '66c', '67c', '68c', '69c', '6c', '71c', '72c', '73c', '75c',\n",
       "       '76c', '77c', '80c', '82c', '83c', '84c', '85c', '86c', '87c', '88c',\n",
       "       '89c', '8c', '90c', '91c', '93c', '94c', '96c', '97c', '98c', '99c',\n",
       "       '9c'],\n",
       "      dtype='object', name='Clip_ID')"
      ]
     },
     "execution_count": 126,
     "metadata": {},
     "output_type": "execute_result"
    }
   ],
   "source": [
    "(df.groupby('Clip_ID')['Rating'].mean()[df.groupby('Clip_ID')['Rating'].mean() > 2.5]).index"
   ]
  },
  {
   "cell_type": "code",
   "execution_count": 127,
   "metadata": {},
   "outputs": [],
   "source": [
    "df_high_rating = df[df['Clip_ID'].isin((df.groupby('Clip_ID')['Rating'].mean()[df.groupby('Clip_ID')['Rating'].mean() > 2.5]).index)].reset_index(drop = True).drop(['ListenerID', 'Rating', 'CulturalGroup', 'SpeakerSex'], axis = 1).drop_duplicates().reset_index(drop = True)"
   ]
  },
  {
   "cell_type": "code",
   "execution_count": 128,
   "metadata": {},
   "outputs": [],
   "source": [
    "df_high_rating = df_high_rating.loc[:, ['Clip_ID','entropy_mean' , 'entropy_sd', 'roughness_mean', 'HNR_mean', 'HNRVoiced_mean', 'CPP', 'pitch_mean', 'pitch_sd', 'scog_mean', 'scog_sd', 'Duration']].assign(rating = 'Higer Than 2.5')"
   ]
  },
  {
   "cell_type": "code",
   "execution_count": 129,
   "metadata": {},
   "outputs": [],
   "source": [
    "df_low_rating = df[df['Clip_ID'].isin((df.groupby('Clip_ID')['Rating'].mean()[df.groupby('Clip_ID')['Rating'].mean() < 2.5]).index)].reset_index(drop = True).drop(['ListenerID', 'Rating', 'CulturalGroup', 'SpeakerSex'], axis = 1).drop_duplicates().reset_index(drop = True)"
   ]
  },
  {
   "cell_type": "code",
   "execution_count": 130,
   "metadata": {},
   "outputs": [],
   "source": [
    "df_low_rating = df_low_rating.loc[:, ['Clip_ID','entropy_mean' , 'entropy_sd', 'roughness_mean', 'HNR_mean', 'HNRVoiced_mean', 'CPP', 'pitch_mean', 'pitch_sd', 'scog_mean', 'scog_sd', 'Duration']].assign(rating = 'Lower Than 2.5')"
   ]
  },
  {
   "cell_type": "code",
   "execution_count": 131,
   "metadata": {},
   "outputs": [],
   "source": [
    "df_predictive = pd.concat([df_high_rating, df_low_rating], axis = 0, ignore_index = True)"
   ]
  },
  {
   "cell_type": "code",
   "execution_count": 132,
   "metadata": {},
   "outputs": [],
   "source": [
    "df_predictive = df_predictive.melt(id_vars = ['Clip_ID', 'rating'], var_name = 'Features', value_name = 'Values')"
   ]
  },
  {
   "cell_type": "code",
   "execution_count": 133,
   "metadata": {},
   "outputs": [
    {
     "data": {
      "text/html": [
       "<div>\n",
       "<style scoped>\n",
       "    .dataframe tbody tr th:only-of-type {\n",
       "        vertical-align: middle;\n",
       "    }\n",
       "\n",
       "    .dataframe tbody tr th {\n",
       "        vertical-align: top;\n",
       "    }\n",
       "\n",
       "    .dataframe thead th {\n",
       "        text-align: right;\n",
       "    }\n",
       "</style>\n",
       "<table border=\"1\" class=\"dataframe\">\n",
       "  <thead>\n",
       "    <tr style=\"text-align: right;\">\n",
       "      <th></th>\n",
       "      <th>Clip_ID</th>\n",
       "      <th>rating</th>\n",
       "      <th>Features</th>\n",
       "      <th>Values</th>\n",
       "    </tr>\n",
       "  </thead>\n",
       "  <tbody>\n",
       "    <tr>\n",
       "      <th>0</th>\n",
       "      <td>101c</td>\n",
       "      <td>Higer Than 2.5</td>\n",
       "      <td>entropy_mean</td>\n",
       "      <td>0.091835</td>\n",
       "    </tr>\n",
       "    <tr>\n",
       "      <th>1</th>\n",
       "      <td>102c</td>\n",
       "      <td>Higer Than 2.5</td>\n",
       "      <td>entropy_mean</td>\n",
       "      <td>0.090592</td>\n",
       "    </tr>\n",
       "    <tr>\n",
       "      <th>2</th>\n",
       "      <td>103c</td>\n",
       "      <td>Higer Than 2.5</td>\n",
       "      <td>entropy_mean</td>\n",
       "      <td>0.098487</td>\n",
       "    </tr>\n",
       "    <tr>\n",
       "      <th>3</th>\n",
       "      <td>105c</td>\n",
       "      <td>Higer Than 2.5</td>\n",
       "      <td>entropy_mean</td>\n",
       "      <td>0.049616</td>\n",
       "    </tr>\n",
       "    <tr>\n",
       "      <th>4</th>\n",
       "      <td>107c</td>\n",
       "      <td>Higer Than 2.5</td>\n",
       "      <td>entropy_mean</td>\n",
       "      <td>0.072938</td>\n",
       "    </tr>\n",
       "    <tr>\n",
       "      <th>...</th>\n",
       "      <td>...</td>\n",
       "      <td>...</td>\n",
       "      <td>...</td>\n",
       "      <td>...</td>\n",
       "    </tr>\n",
       "    <tr>\n",
       "      <th>1381</th>\n",
       "      <td>79c</td>\n",
       "      <td>Lower Than 2.5</td>\n",
       "      <td>Duration</td>\n",
       "      <td>3.604898</td>\n",
       "    </tr>\n",
       "    <tr>\n",
       "      <th>1382</th>\n",
       "      <td>7c</td>\n",
       "      <td>Lower Than 2.5</td>\n",
       "      <td>Duration</td>\n",
       "      <td>5.146122</td>\n",
       "    </tr>\n",
       "    <tr>\n",
       "      <th>1383</th>\n",
       "      <td>81c</td>\n",
       "      <td>Lower Than 2.5</td>\n",
       "      <td>Duration</td>\n",
       "      <td>1.854694</td>\n",
       "    </tr>\n",
       "    <tr>\n",
       "      <th>1384</th>\n",
       "      <td>92c</td>\n",
       "      <td>Lower Than 2.5</td>\n",
       "      <td>Duration</td>\n",
       "      <td>4.257959</td>\n",
       "    </tr>\n",
       "    <tr>\n",
       "      <th>1385</th>\n",
       "      <td>95c</td>\n",
       "      <td>Lower Than 2.5</td>\n",
       "      <td>Duration</td>\n",
       "      <td>1.453107</td>\n",
       "    </tr>\n",
       "  </tbody>\n",
       "</table>\n",
       "<p>1386 rows × 4 columns</p>\n",
       "</div>"
      ],
      "text/plain": [
       "     Clip_ID          rating      Features    Values\n",
       "0       101c  Higer Than 2.5  entropy_mean  0.091835\n",
       "1       102c  Higer Than 2.5  entropy_mean  0.090592\n",
       "2       103c  Higer Than 2.5  entropy_mean  0.098487\n",
       "3       105c  Higer Than 2.5  entropy_mean  0.049616\n",
       "4       107c  Higer Than 2.5  entropy_mean  0.072938\n",
       "...      ...             ...           ...       ...\n",
       "1381     79c  Lower Than 2.5      Duration  3.604898\n",
       "1382      7c  Lower Than 2.5      Duration  5.146122\n",
       "1383     81c  Lower Than 2.5      Duration  1.854694\n",
       "1384     92c  Lower Than 2.5      Duration  4.257959\n",
       "1385     95c  Lower Than 2.5      Duration  1.453107\n",
       "\n",
       "[1386 rows x 4 columns]"
      ]
     },
     "execution_count": 133,
     "metadata": {},
     "output_type": "execute_result"
    }
   ],
   "source": [
    "df_predictive"
   ]
  },
  {
   "cell_type": "code",
   "execution_count": 134,
   "metadata": {},
   "outputs": [
    {
     "data": {
      "application/vnd.plotly.v1+json": {
       "config": {
        "plotlyServerURL": "https://plot.ly"
       },
       "data": [
        {
         "alignmentgroup": "True",
         "box": {
          "visible": true
         },
         "hovertemplate": "rating=Higer Than 2.5<br>Features=%{x}<br>Values=%{y}<extra></extra>",
         "legendgroup": "Higer Than 2.5",
         "marker": {
          "color": "#636efa"
         },
         "name": "Higer Than 2.5",
         "offsetgroup": "Higer Than 2.5",
         "orientation": "v",
         "points": "all",
         "scalegroup": "True",
         "showlegend": true,
         "type": "violin",
         "x": [
          "entropy_mean",
          "entropy_mean",
          "entropy_mean",
          "entropy_mean",
          "entropy_mean",
          "entropy_mean",
          "entropy_mean",
          "entropy_mean",
          "entropy_mean",
          "entropy_mean",
          "entropy_mean",
          "entropy_mean",
          "entropy_mean",
          "entropy_mean",
          "entropy_mean",
          "entropy_mean",
          "entropy_mean",
          "entropy_mean",
          "entropy_mean",
          "entropy_mean",
          "entropy_mean",
          "entropy_mean",
          "entropy_mean",
          "entropy_mean",
          "entropy_mean",
          "entropy_mean",
          "entropy_mean",
          "entropy_mean",
          "entropy_mean",
          "entropy_mean",
          "entropy_mean",
          "entropy_mean",
          "entropy_mean",
          "entropy_mean",
          "entropy_mean",
          "entropy_mean",
          "entropy_mean",
          "entropy_mean",
          "entropy_mean",
          "entropy_mean",
          "entropy_mean",
          "entropy_mean",
          "entropy_mean",
          "entropy_mean",
          "entropy_mean",
          "entropy_mean",
          "entropy_mean",
          "entropy_mean",
          "entropy_mean",
          "entropy_mean",
          "entropy_mean",
          "entropy_mean",
          "entropy_mean",
          "entropy_mean",
          "entropy_mean",
          "entropy_mean",
          "entropy_mean",
          "entropy_mean",
          "entropy_mean",
          "entropy_mean",
          "entropy_mean",
          "entropy_mean",
          "entropy_mean",
          "entropy_mean",
          "entropy_mean",
          "entropy_mean",
          "entropy_mean",
          "entropy_mean",
          "entropy_mean",
          "entropy_mean",
          "entropy_mean",
          "entropy_mean",
          "entropy_mean",
          "entropy_mean",
          "entropy_mean",
          "entropy_mean",
          "entropy_mean",
          "entropy_mean",
          "entropy_mean",
          "entropy_mean",
          "entropy_mean",
          "entropy_mean",
          "entropy_mean",
          "entropy_mean",
          "entropy_mean",
          "entropy_mean",
          "entropy_mean",
          "entropy_mean",
          "entropy_mean",
          "entropy_mean",
          "entropy_mean",
          "entropy_mean",
          "entropy_mean",
          "entropy_mean",
          "entropy_mean",
          "entropy_mean",
          "entropy_mean",
          "entropy_mean",
          "entropy_sd",
          "entropy_sd",
          "entropy_sd",
          "entropy_sd",
          "entropy_sd",
          "entropy_sd",
          "entropy_sd",
          "entropy_sd",
          "entropy_sd",
          "entropy_sd",
          "entropy_sd",
          "entropy_sd",
          "entropy_sd",
          "entropy_sd",
          "entropy_sd",
          "entropy_sd",
          "entropy_sd",
          "entropy_sd",
          "entropy_sd",
          "entropy_sd",
          "entropy_sd",
          "entropy_sd",
          "entropy_sd",
          "entropy_sd",
          "entropy_sd",
          "entropy_sd",
          "entropy_sd",
          "entropy_sd",
          "entropy_sd",
          "entropy_sd",
          "entropy_sd",
          "entropy_sd",
          "entropy_sd",
          "entropy_sd",
          "entropy_sd",
          "entropy_sd",
          "entropy_sd",
          "entropy_sd",
          "entropy_sd",
          "entropy_sd",
          "entropy_sd",
          "entropy_sd",
          "entropy_sd",
          "entropy_sd",
          "entropy_sd",
          "entropy_sd",
          "entropy_sd",
          "entropy_sd",
          "entropy_sd",
          "entropy_sd",
          "entropy_sd",
          "entropy_sd",
          "entropy_sd",
          "entropy_sd",
          "entropy_sd",
          "entropy_sd",
          "entropy_sd",
          "entropy_sd",
          "entropy_sd",
          "entropy_sd",
          "entropy_sd",
          "entropy_sd",
          "entropy_sd",
          "entropy_sd",
          "entropy_sd",
          "entropy_sd",
          "entropy_sd",
          "entropy_sd",
          "entropy_sd",
          "entropy_sd",
          "entropy_sd",
          "entropy_sd",
          "entropy_sd",
          "entropy_sd",
          "entropy_sd",
          "entropy_sd",
          "entropy_sd",
          "entropy_sd",
          "entropy_sd",
          "entropy_sd",
          "entropy_sd",
          "entropy_sd",
          "entropy_sd",
          "entropy_sd",
          "entropy_sd",
          "entropy_sd",
          "entropy_sd",
          "entropy_sd",
          "entropy_sd",
          "entropy_sd",
          "entropy_sd",
          "entropy_sd",
          "entropy_sd",
          "entropy_sd",
          "entropy_sd",
          "entropy_sd",
          "entropy_sd",
          "entropy_sd"
         ],
         "x0": " ",
         "xaxis": "x",
         "y": [
          0.0918347764219421,
          0.0905918850898287,
          0.098486571820902,
          0.0496159922470252,
          0.0729384129496989,
          0.0394844524740448,
          0.212020582472368,
          0.0625724757788163,
          0.0567432901986719,
          0.0992950012455276,
          0.109264293571273,
          0.0660013282910204,
          0.0761738324701506,
          0.102401206078308,
          0.121629244311496,
          0.0601726650871414,
          0.107656594732598,
          0.10732254269208,
          0.0787323308622457,
          0.102024629596588,
          0.104463841862076,
          0.0756983432917851,
          0.0792562065112793,
          0.0878398415235917,
          0.106007631671965,
          0.060421784637832,
          0.0515327997708499,
          0.0636624315444126,
          0.0712460273941515,
          0.088304367359753,
          0.0806024485426311,
          0.149237373406123,
          0.0719853141653689,
          0.115772635492604,
          0.0695479311021284,
          0.0649708196169367,
          0.124674546429874,
          0.0804939371500256,
          0.0851009337753257,
          0.0764301815030332,
          0.0621527591999973,
          0.0635732513837494,
          0.0910155185002228,
          0.0396479123580715,
          0.117641104334921,
          0.107681882563041,
          0.0914362619934175,
          0.0535652643966874,
          0.0860457858428888,
          0.0682912045603648,
          0.104474937411441,
          0.0785497489196147,
          0.148195024683645,
          0.0876844416204495,
          0.0878661856387665,
          0.134075924247421,
          0.130236984250765,
          0.0989644716479824,
          0.0695073996167901,
          0.0527322540106666,
          0.0569023190301862,
          0.118584486918803,
          0.068919441324259,
          0.161950210826989,
          0.0621124759209548,
          0.0427934681113472,
          0.124994226320537,
          0.055490310790602,
          0.0941272268492904,
          0.0553785886206936,
          0.105155806167157,
          0.0932192267898508,
          0.0931632563512535,
          0.0602098875424511,
          0.0998614173299402,
          0.0839687310985754,
          0.0610955990248785,
          0.0738684172060328,
          0.0952187955808887,
          0.054193583612999,
          0.102287802064989,
          0.0732889309303678,
          0.0560133524151867,
          0.0664637416457277,
          0.104866278321649,
          0.113000335586959,
          0.0752473525752468,
          0.0950660734608766,
          0.119972662061079,
          0.141803781445069,
          0.112681464005807,
          0.0711119749202844,
          0.0602992631475191,
          0.0417082027402716,
          0.05821998921509,
          0.125904806676078,
          0.123220754188979,
          0.0594367273879634,
          0.0355733747569655,
          0.039513303470886,
          0.0478684801154265,
          0.0506514386312756,
          0.0493413369938458,
          0.0354652032822792,
          0.0832810912209575,
          0.0283198506237534,
          0.0344086864757734,
          0.0742785941456763,
          0.0318938912537071,
          0.0516045648196086,
          0.0402800969754752,
          0.0512226214280496,
          0.0630734666439986,
          0.0288149490929528,
          0.0587212692301007,
          0.0466245110343139,
          0.0588418089926758,
          0.0824768958036944,
          0.0400144986805415,
          0.0508866837110807,
          0.0357381543621223,
          0.0577522738298046,
          0.108345735477656,
          0.0316008916375954,
          0.0429889948632993,
          0.0372626317793681,
          0.0310749349021108,
          0.0793236865841748,
          0.0322754207612718,
          0.0756422975120481,
          0.0564912178302648,
          0.0715985405246057,
          0.0288074753969268,
          0.06286808647899,
          0.0553587336225184,
          0.0486212072217863,
          0.0765410485406128,
          0.0335430292151727,
          0.0298460018025557,
          0.0693488551277414,
          0.045278080379258,
          0.0339256698871442,
          0.0495802712543076,
          0.0332787557017811,
          0.044887043307259,
          0.0543826460846675,
          0.0685877423339458,
          0.0735010951776572,
          0.149332720626249,
          0.119426913116216,
          0.165940666052182,
          0.0549682014662058,
          0.0510229461421393,
          0.131560725066709,
          0.209268329312773,
          0.0569941439668919,
          0.0373719677210416,
          0.0653740199774341,
          0.030814556264864,
          0.119594121784013,
          0.0604372475566405,
          0.0551047266137271,
          0.0477319841406126,
          0.032763593616137,
          0.0752638785897101,
          0.0538557235963404,
          0.0502280879479968,
          0.0640070274967306,
          0.0679021285783576,
          0.0441776132452542,
          0.0861715678927013,
          0.0300883530290298,
          0.0590997686191341,
          0.0571323099900263,
          0.0347516388663238,
          0.0413891386983253,
          0.0390530029515839,
          0.0310094370440002,
          0.0483910409068257,
          0.07312533965912,
          0.0522283876147156,
          0.0511627719472527,
          0.0350119495276228,
          0.060831252095095,
          0.0496891330883413,
          0.0594610434137407,
          0.155046353144414,
          0.0667540850186352,
          0.049634990358769,
          0.0281037936568935,
          0.034277738910107,
          0.0659072024137831,
          0.0403958001569992,
          0.0656728859193849,
          0.0776023587571445,
          0.0276722489345111
         ],
         "y0": " ",
         "yaxis": "y"
        },
        {
         "alignmentgroup": "True",
         "box": {
          "visible": true
         },
         "hovertemplate": "rating=Lower Than 2.5<br>Features=%{x}<br>Values=%{y}<extra></extra>",
         "legendgroup": "Lower Than 2.5",
         "marker": {
          "color": "#EF553B"
         },
         "name": "Lower Than 2.5",
         "offsetgroup": "Lower Than 2.5",
         "orientation": "v",
         "points": "all",
         "scalegroup": "True",
         "showlegend": true,
         "type": "violin",
         "x": [
          "entropy_mean",
          "entropy_mean",
          "entropy_mean",
          "entropy_mean",
          "entropy_mean",
          "entropy_mean",
          "entropy_mean",
          "entropy_mean",
          "entropy_mean",
          "entropy_mean",
          "entropy_mean",
          "entropy_mean",
          "entropy_mean",
          "entropy_mean",
          "entropy_mean",
          "entropy_mean",
          "entropy_mean",
          "entropy_mean",
          "entropy_mean",
          "entropy_mean",
          "entropy_mean",
          "entropy_mean",
          "entropy_mean",
          "entropy_mean",
          "entropy_mean",
          "entropy_mean",
          "entropy_mean",
          "entropy_mean",
          "entropy_sd",
          "entropy_sd",
          "entropy_sd",
          "entropy_sd",
          "entropy_sd",
          "entropy_sd",
          "entropy_sd",
          "entropy_sd",
          "entropy_sd",
          "entropy_sd",
          "entropy_sd",
          "entropy_sd",
          "entropy_sd",
          "entropy_sd",
          "entropy_sd",
          "entropy_sd",
          "entropy_sd",
          "entropy_sd",
          "entropy_sd",
          "entropy_sd",
          "entropy_sd",
          "entropy_sd",
          "entropy_sd",
          "entropy_sd",
          "entropy_sd",
          "entropy_sd",
          "entropy_sd",
          "entropy_sd"
         ],
         "x0": " ",
         "xaxis": "x",
         "y": [
          0.0919470408257441,
          0.109808156699134,
          0.0306496118415917,
          0.0787303147508386,
          0.102561192726258,
          0.151983890505036,
          0.137393180007422,
          0.109060106761405,
          0.0820144469505277,
          0.118857867760844,
          0.148906717333161,
          0.0643826665619929,
          0.0420510874127208,
          0.145845170732883,
          0.0871745603966675,
          0.125752353253361,
          0.0775668785681132,
          0.0768941874432443,
          0.05091751146024,
          0.0822911670820075,
          0.116789570481916,
          0.0318407345342043,
          0.105022524611179,
          0.109213543837411,
          0.0902351703962333,
          0.0783241813428121,
          0.0417784508337593,
          0.0655724043468328,
          0.0445145577891019,
          0.0754504993820233,
          0.0224599856949144,
          0.0537614183876934,
          0.0466130318531014,
          0.104010204143321,
          0.0802478538994628,
          0.0727456747880866,
          0.0640748273005034,
          0.0878759684379284,
          0.0920351491887571,
          0.0310528283557231,
          0.0330632643650213,
          0.0893937966866253,
          0.0662352636711547,
          0.0665722922378721,
          0.0597287727999049,
          0.0591529507216419,
          0.0229372183386873,
          0.0436261502627085,
          0.0545239592390912,
          0.0272633506152005,
          0.0676392831759248,
          0.0518993224286943,
          0.129129140714807,
          0.0766922172152263,
          0.0289089881311274,
          0.057114280658793
         ],
         "y0": " ",
         "yaxis": "y"
        }
       ],
       "layout": {
        "legend": {
         "title": {
          "text": "rating"
         },
         "tracegroupgap": 0
        },
        "margin": {
         "t": 60
        },
        "template": {
         "data": {
          "bar": [
           {
            "error_x": {
             "color": "#2a3f5f"
            },
            "error_y": {
             "color": "#2a3f5f"
            },
            "marker": {
             "line": {
              "color": "#E5ECF6",
              "width": 0.5
             },
             "pattern": {
              "fillmode": "overlay",
              "size": 10,
              "solidity": 0.2
             }
            },
            "type": "bar"
           }
          ],
          "barpolar": [
           {
            "marker": {
             "line": {
              "color": "#E5ECF6",
              "width": 0.5
             },
             "pattern": {
              "fillmode": "overlay",
              "size": 10,
              "solidity": 0.2
             }
            },
            "type": "barpolar"
           }
          ],
          "carpet": [
           {
            "aaxis": {
             "endlinecolor": "#2a3f5f",
             "gridcolor": "white",
             "linecolor": "white",
             "minorgridcolor": "white",
             "startlinecolor": "#2a3f5f"
            },
            "baxis": {
             "endlinecolor": "#2a3f5f",
             "gridcolor": "white",
             "linecolor": "white",
             "minorgridcolor": "white",
             "startlinecolor": "#2a3f5f"
            },
            "type": "carpet"
           }
          ],
          "choropleth": [
           {
            "colorbar": {
             "outlinewidth": 0,
             "ticks": ""
            },
            "type": "choropleth"
           }
          ],
          "contour": [
           {
            "colorbar": {
             "outlinewidth": 0,
             "ticks": ""
            },
            "colorscale": [
             [
              0,
              "#0d0887"
             ],
             [
              0.1111111111111111,
              "#46039f"
             ],
             [
              0.2222222222222222,
              "#7201a8"
             ],
             [
              0.3333333333333333,
              "#9c179e"
             ],
             [
              0.4444444444444444,
              "#bd3786"
             ],
             [
              0.5555555555555556,
              "#d8576b"
             ],
             [
              0.6666666666666666,
              "#ed7953"
             ],
             [
              0.7777777777777778,
              "#fb9f3a"
             ],
             [
              0.8888888888888888,
              "#fdca26"
             ],
             [
              1,
              "#f0f921"
             ]
            ],
            "type": "contour"
           }
          ],
          "contourcarpet": [
           {
            "colorbar": {
             "outlinewidth": 0,
             "ticks": ""
            },
            "type": "contourcarpet"
           }
          ],
          "heatmap": [
           {
            "colorbar": {
             "outlinewidth": 0,
             "ticks": ""
            },
            "colorscale": [
             [
              0,
              "#0d0887"
             ],
             [
              0.1111111111111111,
              "#46039f"
             ],
             [
              0.2222222222222222,
              "#7201a8"
             ],
             [
              0.3333333333333333,
              "#9c179e"
             ],
             [
              0.4444444444444444,
              "#bd3786"
             ],
             [
              0.5555555555555556,
              "#d8576b"
             ],
             [
              0.6666666666666666,
              "#ed7953"
             ],
             [
              0.7777777777777778,
              "#fb9f3a"
             ],
             [
              0.8888888888888888,
              "#fdca26"
             ],
             [
              1,
              "#f0f921"
             ]
            ],
            "type": "heatmap"
           }
          ],
          "heatmapgl": [
           {
            "colorbar": {
             "outlinewidth": 0,
             "ticks": ""
            },
            "colorscale": [
             [
              0,
              "#0d0887"
             ],
             [
              0.1111111111111111,
              "#46039f"
             ],
             [
              0.2222222222222222,
              "#7201a8"
             ],
             [
              0.3333333333333333,
              "#9c179e"
             ],
             [
              0.4444444444444444,
              "#bd3786"
             ],
             [
              0.5555555555555556,
              "#d8576b"
             ],
             [
              0.6666666666666666,
              "#ed7953"
             ],
             [
              0.7777777777777778,
              "#fb9f3a"
             ],
             [
              0.8888888888888888,
              "#fdca26"
             ],
             [
              1,
              "#f0f921"
             ]
            ],
            "type": "heatmapgl"
           }
          ],
          "histogram": [
           {
            "marker": {
             "pattern": {
              "fillmode": "overlay",
              "size": 10,
              "solidity": 0.2
             }
            },
            "type": "histogram"
           }
          ],
          "histogram2d": [
           {
            "colorbar": {
             "outlinewidth": 0,
             "ticks": ""
            },
            "colorscale": [
             [
              0,
              "#0d0887"
             ],
             [
              0.1111111111111111,
              "#46039f"
             ],
             [
              0.2222222222222222,
              "#7201a8"
             ],
             [
              0.3333333333333333,
              "#9c179e"
             ],
             [
              0.4444444444444444,
              "#bd3786"
             ],
             [
              0.5555555555555556,
              "#d8576b"
             ],
             [
              0.6666666666666666,
              "#ed7953"
             ],
             [
              0.7777777777777778,
              "#fb9f3a"
             ],
             [
              0.8888888888888888,
              "#fdca26"
             ],
             [
              1,
              "#f0f921"
             ]
            ],
            "type": "histogram2d"
           }
          ],
          "histogram2dcontour": [
           {
            "colorbar": {
             "outlinewidth": 0,
             "ticks": ""
            },
            "colorscale": [
             [
              0,
              "#0d0887"
             ],
             [
              0.1111111111111111,
              "#46039f"
             ],
             [
              0.2222222222222222,
              "#7201a8"
             ],
             [
              0.3333333333333333,
              "#9c179e"
             ],
             [
              0.4444444444444444,
              "#bd3786"
             ],
             [
              0.5555555555555556,
              "#d8576b"
             ],
             [
              0.6666666666666666,
              "#ed7953"
             ],
             [
              0.7777777777777778,
              "#fb9f3a"
             ],
             [
              0.8888888888888888,
              "#fdca26"
             ],
             [
              1,
              "#f0f921"
             ]
            ],
            "type": "histogram2dcontour"
           }
          ],
          "mesh3d": [
           {
            "colorbar": {
             "outlinewidth": 0,
             "ticks": ""
            },
            "type": "mesh3d"
           }
          ],
          "parcoords": [
           {
            "line": {
             "colorbar": {
              "outlinewidth": 0,
              "ticks": ""
             }
            },
            "type": "parcoords"
           }
          ],
          "pie": [
           {
            "automargin": true,
            "type": "pie"
           }
          ],
          "scatter": [
           {
            "fillpattern": {
             "fillmode": "overlay",
             "size": 10,
             "solidity": 0.2
            },
            "type": "scatter"
           }
          ],
          "scatter3d": [
           {
            "line": {
             "colorbar": {
              "outlinewidth": 0,
              "ticks": ""
             }
            },
            "marker": {
             "colorbar": {
              "outlinewidth": 0,
              "ticks": ""
             }
            },
            "type": "scatter3d"
           }
          ],
          "scattercarpet": [
           {
            "marker": {
             "colorbar": {
              "outlinewidth": 0,
              "ticks": ""
             }
            },
            "type": "scattercarpet"
           }
          ],
          "scattergeo": [
           {
            "marker": {
             "colorbar": {
              "outlinewidth": 0,
              "ticks": ""
             }
            },
            "type": "scattergeo"
           }
          ],
          "scattergl": [
           {
            "marker": {
             "colorbar": {
              "outlinewidth": 0,
              "ticks": ""
             }
            },
            "type": "scattergl"
           }
          ],
          "scattermapbox": [
           {
            "marker": {
             "colorbar": {
              "outlinewidth": 0,
              "ticks": ""
             }
            },
            "type": "scattermapbox"
           }
          ],
          "scatterpolar": [
           {
            "marker": {
             "colorbar": {
              "outlinewidth": 0,
              "ticks": ""
             }
            },
            "type": "scatterpolar"
           }
          ],
          "scatterpolargl": [
           {
            "marker": {
             "colorbar": {
              "outlinewidth": 0,
              "ticks": ""
             }
            },
            "type": "scatterpolargl"
           }
          ],
          "scatterternary": [
           {
            "marker": {
             "colorbar": {
              "outlinewidth": 0,
              "ticks": ""
             }
            },
            "type": "scatterternary"
           }
          ],
          "surface": [
           {
            "colorbar": {
             "outlinewidth": 0,
             "ticks": ""
            },
            "colorscale": [
             [
              0,
              "#0d0887"
             ],
             [
              0.1111111111111111,
              "#46039f"
             ],
             [
              0.2222222222222222,
              "#7201a8"
             ],
             [
              0.3333333333333333,
              "#9c179e"
             ],
             [
              0.4444444444444444,
              "#bd3786"
             ],
             [
              0.5555555555555556,
              "#d8576b"
             ],
             [
              0.6666666666666666,
              "#ed7953"
             ],
             [
              0.7777777777777778,
              "#fb9f3a"
             ],
             [
              0.8888888888888888,
              "#fdca26"
             ],
             [
              1,
              "#f0f921"
             ]
            ],
            "type": "surface"
           }
          ],
          "table": [
           {
            "cells": {
             "fill": {
              "color": "#EBF0F8"
             },
             "line": {
              "color": "white"
             }
            },
            "header": {
             "fill": {
              "color": "#C8D4E3"
             },
             "line": {
              "color": "white"
             }
            },
            "type": "table"
           }
          ]
         },
         "layout": {
          "annotationdefaults": {
           "arrowcolor": "#2a3f5f",
           "arrowhead": 0,
           "arrowwidth": 1
          },
          "autotypenumbers": "strict",
          "coloraxis": {
           "colorbar": {
            "outlinewidth": 0,
            "ticks": ""
           }
          },
          "colorscale": {
           "diverging": [
            [
             0,
             "#8e0152"
            ],
            [
             0.1,
             "#c51b7d"
            ],
            [
             0.2,
             "#de77ae"
            ],
            [
             0.3,
             "#f1b6da"
            ],
            [
             0.4,
             "#fde0ef"
            ],
            [
             0.5,
             "#f7f7f7"
            ],
            [
             0.6,
             "#e6f5d0"
            ],
            [
             0.7,
             "#b8e186"
            ],
            [
             0.8,
             "#7fbc41"
            ],
            [
             0.9,
             "#4d9221"
            ],
            [
             1,
             "#276419"
            ]
           ],
           "sequential": [
            [
             0,
             "#0d0887"
            ],
            [
             0.1111111111111111,
             "#46039f"
            ],
            [
             0.2222222222222222,
             "#7201a8"
            ],
            [
             0.3333333333333333,
             "#9c179e"
            ],
            [
             0.4444444444444444,
             "#bd3786"
            ],
            [
             0.5555555555555556,
             "#d8576b"
            ],
            [
             0.6666666666666666,
             "#ed7953"
            ],
            [
             0.7777777777777778,
             "#fb9f3a"
            ],
            [
             0.8888888888888888,
             "#fdca26"
            ],
            [
             1,
             "#f0f921"
            ]
           ],
           "sequentialminus": [
            [
             0,
             "#0d0887"
            ],
            [
             0.1111111111111111,
             "#46039f"
            ],
            [
             0.2222222222222222,
             "#7201a8"
            ],
            [
             0.3333333333333333,
             "#9c179e"
            ],
            [
             0.4444444444444444,
             "#bd3786"
            ],
            [
             0.5555555555555556,
             "#d8576b"
            ],
            [
             0.6666666666666666,
             "#ed7953"
            ],
            [
             0.7777777777777778,
             "#fb9f3a"
            ],
            [
             0.8888888888888888,
             "#fdca26"
            ],
            [
             1,
             "#f0f921"
            ]
           ]
          },
          "colorway": [
           "#636efa",
           "#EF553B",
           "#00cc96",
           "#ab63fa",
           "#FFA15A",
           "#19d3f3",
           "#FF6692",
           "#B6E880",
           "#FF97FF",
           "#FECB52"
          ],
          "font": {
           "color": "#2a3f5f"
          },
          "geo": {
           "bgcolor": "white",
           "lakecolor": "white",
           "landcolor": "#E5ECF6",
           "showlakes": true,
           "showland": true,
           "subunitcolor": "white"
          },
          "hoverlabel": {
           "align": "left"
          },
          "hovermode": "closest",
          "mapbox": {
           "style": "light"
          },
          "paper_bgcolor": "white",
          "plot_bgcolor": "#E5ECF6",
          "polar": {
           "angularaxis": {
            "gridcolor": "white",
            "linecolor": "white",
            "ticks": ""
           },
           "bgcolor": "#E5ECF6",
           "radialaxis": {
            "gridcolor": "white",
            "linecolor": "white",
            "ticks": ""
           }
          },
          "scene": {
           "xaxis": {
            "backgroundcolor": "#E5ECF6",
            "gridcolor": "white",
            "gridwidth": 2,
            "linecolor": "white",
            "showbackground": true,
            "ticks": "",
            "zerolinecolor": "white"
           },
           "yaxis": {
            "backgroundcolor": "#E5ECF6",
            "gridcolor": "white",
            "gridwidth": 2,
            "linecolor": "white",
            "showbackground": true,
            "ticks": "",
            "zerolinecolor": "white"
           },
           "zaxis": {
            "backgroundcolor": "#E5ECF6",
            "gridcolor": "white",
            "gridwidth": 2,
            "linecolor": "white",
            "showbackground": true,
            "ticks": "",
            "zerolinecolor": "white"
           }
          },
          "shapedefaults": {
           "line": {
            "color": "#2a3f5f"
           }
          },
          "ternary": {
           "aaxis": {
            "gridcolor": "white",
            "linecolor": "white",
            "ticks": ""
           },
           "baxis": {
            "gridcolor": "white",
            "linecolor": "white",
            "ticks": ""
           },
           "bgcolor": "#E5ECF6",
           "caxis": {
            "gridcolor": "white",
            "linecolor": "white",
            "ticks": ""
           }
          },
          "title": {
           "x": 0.05
          },
          "xaxis": {
           "automargin": true,
           "gridcolor": "white",
           "linecolor": "white",
           "ticks": "",
           "title": {
            "standoff": 15
           },
           "zerolinecolor": "white",
           "zerolinewidth": 2
          },
          "yaxis": {
           "automargin": true,
           "gridcolor": "white",
           "linecolor": "white",
           "ticks": "",
           "title": {
            "standoff": 15
           },
           "zerolinecolor": "white",
           "zerolinewidth": 2
          }
         }
        },
        "violinmode": "group",
        "xaxis": {
         "anchor": "y",
         "domain": [
          0,
          1
         ],
         "title": {
          "text": "Features"
         }
        },
        "yaxis": {
         "anchor": "x",
         "domain": [
          0,
          1
         ],
         "title": {
          "text": "Values"
         }
        }
       }
      }
     },
     "metadata": {},
     "output_type": "display_data"
    }
   ],
   "source": [
    "fig = px.violin(df_predictive.loc[df_predictive['Features'].isin(['entropy_mean', 'entropy_sd']),:], y=\"Values\", x=\"Features\", color=\"rating\", box=True, points=\"all\")\n",
    "fig.show()"
   ]
  },
  {
   "attachments": {},
   "cell_type": "markdown",
   "metadata": {},
   "source": [
    "# Spectrogram"
   ]
  },
  {
   "cell_type": "code",
   "execution_count": 135,
   "metadata": {},
   "outputs": [
    {
     "data": {
      "text/plain": [
       "Clip_ID\n",
       "3c      1.178571\n",
       "29c     1.323529\n",
       "100c    1.360000\n",
       "106c    1.666667\n",
       "121c    1.686099\n",
       "          ...   \n",
       "63c     3.940594\n",
       "113c    3.957447\n",
       "30c     3.958333\n",
       "124c    3.978571\n",
       "18c     4.053571\n",
       "Name: Rating, Length: 126, dtype: float64"
      ]
     },
     "execution_count": 135,
     "metadata": {},
     "output_type": "execute_result"
    }
   ],
   "source": [
    "df.groupby('Clip_ID')['Rating'].mean().sort_values()"
   ]
  },
  {
   "cell_type": "code",
   "execution_count": 136,
   "metadata": {},
   "outputs": [
    {
     "name": "stderr",
     "output_type": "stream",
     "text": [
      "/var/folders/qj/4nwbnh6j0bdcnt6j_flgf0j00000gn/T/ipykernel_1844/951686916.py:1: WavFileWarning:\n",
      "\n",
      "Chunk (non-data) not understood, skipping it.\n",
      "\n"
     ]
    }
   ],
   "source": [
    "Fs, aud = wavfile.read('audio/105c.wav') "
   ]
  },
  {
   "cell_type": "code",
   "execution_count": 137,
   "metadata": {},
   "outputs": [
    {
     "data": {
      "text/plain": [
       "44100"
      ]
     },
     "execution_count": 137,
     "metadata": {},
     "output_type": "execute_result"
    }
   ],
   "source": [
    "Fs"
   ]
  },
  {
   "cell_type": "code",
   "execution_count": 138,
   "metadata": {},
   "outputs": [
    {
     "data": {
      "text/plain": [
       "array([0, 0, 0, ..., 0, 0, 0], dtype=int16)"
      ]
     },
     "execution_count": 138,
     "metadata": {},
     "output_type": "execute_result"
    }
   ],
   "source": [
    "aud"
   ]
  },
  {
   "cell_type": "code",
   "execution_count": 139,
   "metadata": {},
   "outputs": [
    {
     "data": {
      "text/plain": [
       "count    226944.000000\n",
       "mean         -0.086338\n",
       "std        1933.497871\n",
       "min      -21205.000000\n",
       "25%        -416.000000\n",
       "50%           0.000000\n",
       "75%         372.000000\n",
       "max       24936.000000\n",
       "dtype: float64"
      ]
     },
     "execution_count": 139,
     "metadata": {},
     "output_type": "execute_result"
    }
   ],
   "source": [
    "pd.Series(aud).describe()"
   ]
  },
  {
   "cell_type": "code",
   "execution_count": 140,
   "metadata": {},
   "outputs": [
    {
     "data": {
      "text/plain": [
       "array(['9c', '99c', '98c', '97c', '96c', '95c', '94c', '93c', '92c',\n",
       "       '91c', '90c', '8c', '89c', '88c', '87c', '86c', '85c', '84c',\n",
       "       '83c', '82c', '81c', '80c', '7c', '79c', '78c', '77c', '76c',\n",
       "       '75c', '74c', '73c', '72c', '71c', '70c', '6c', '69c', '68c',\n",
       "       '67c', '66c', '65c', '64c', '63c', '62c', '61c', '60c', '5c',\n",
       "       '59c', '58c', '57c', '56c', '55c', '54c', '53c', '52c', '51c',\n",
       "       '50c', '4c', '49c', '48c', '47c', '46c', '45c', '44c', '43c',\n",
       "       '42c', '41c', '40c', '3c', '39c', '38c', '37c', '36c', '35c',\n",
       "       '34c', '33c', '32c', '31c', '30c', '2c', '29c', '28c', '27c',\n",
       "       '26c', '25c', '24c', '23c', '22c', '21c', '20c', '1c', '19c',\n",
       "       '18c', '17c', '16c', '15c', '14c', '13c', '12c', '128c', '127c',\n",
       "       '126c', '125c', '124c', '123c', '122c', '121c', '120c', '11c',\n",
       "       '119c', '118c', '117c', '116c', '115c', '114c', '113c', '112c',\n",
       "       '111c', '110c', '10c', '107c', '106c', '105c', '104c', '103c',\n",
       "       '102c', '101c', '100c'], dtype=object)"
      ]
     },
     "execution_count": 140,
     "metadata": {},
     "output_type": "execute_result"
    }
   ],
   "source": [
    "df.Clip_ID.sort_values(ascending = False).unique()"
   ]
  },
  {
   "cell_type": "code",
   "execution_count": 141,
   "metadata": {},
   "outputs": [
    {
     "name": "stderr",
     "output_type": "stream",
     "text": [
      "/Users/tahaerensarnic/Desktop/contagious-viz/venv/lib/python3.9/site-packages/matplotlib/axes/_axes.py:7726: RuntimeWarning:\n",
      "\n",
      "divide by zero encountered in log10\n",
      "\n"
     ]
    },
    {
     "data": {
      "image/png": "[encoded data removed]",
      "text/plain": [
       "<Figure size 640x480 with 2 Axes>"
      ]
     },
     "metadata": {},
     "output_type": "display_data"
    }
   ],
   "source": [
    "powerSpectrum, frequenciesFound, time, imageAxis = plt.specgram(aud, Fs=Fs)\n",
    "plt.title('Spectrogram')\n",
    "plt.ylabel('Frequency (Hz)')\n",
    "plt.xlabel('Time (s)')\n",
    "plt.colorbar().set_label(\"Intensity (dB)\")\n",
    "\n",
    "plt.show()"
   ]
  },
  {
   "cell_type": "code",
   "execution_count": 142,
   "metadata": {},
   "outputs": [
    {
     "data": {
      "text/plain": [
       "['1c.wav',\n",
       " '2c.wav',\n",
       " '3c.wav',\n",
       " '4c.wav',\n",
       " '5c.wav',\n",
       " '6c.wav',\n",
       " '7c.wav',\n",
       " '8c.wav',\n",
       " '9c.wav',\n",
       " '10c.wav',\n",
       " '11c.wav',\n",
       " '12c.wav',\n",
       " '13c.wav',\n",
       " '14c.wav',\n",
       " '15c.wav',\n",
       " '16c.wav',\n",
       " '17c.wav',\n",
       " '18c.wav',\n",
       " '19c.wav',\n",
       " '20c.wav',\n",
       " '21c.wav',\n",
       " '22c.wav',\n",
       " '23c.wav',\n",
       " '24c.wav',\n",
       " '25c.wav',\n",
       " '26c.wav',\n",
       " '27c.wav',\n",
       " '28c.wav',\n",
       " '29c.wav',\n",
       " '30c.wav',\n",
       " '31c.wav',\n",
       " '32c.wav',\n",
       " '33c.wav',\n",
       " '34c.wav',\n",
       " '35c.wav',\n",
       " '36c.wav',\n",
       " '37c.wav',\n",
       " '38c.wav',\n",
       " '39c.wav',\n",
       " '40c.wav',\n",
       " '41c.wav',\n",
       " '42c.wav',\n",
       " '43c.wav',\n",
       " '44c.wav',\n",
       " '45c.wav',\n",
       " '46c.wav',\n",
       " '47c.wav',\n",
       " '48c.wav',\n",
       " '49c.wav',\n",
       " '50c.wav',\n",
       " '51c.wav',\n",
       " '52c.wav',\n",
       " '53c.wav',\n",
       " '54c.wav',\n",
       " '55c.wav',\n",
       " '56c.wav',\n",
       " '57c.wav',\n",
       " '58c.wav',\n",
       " '59c.wav',\n",
       " '60c.wav',\n",
       " '61c.wav',\n",
       " '62c.wav',\n",
       " '63c.wav',\n",
       " '64c.wav',\n",
       " '65c.wav',\n",
       " '66c.wav',\n",
       " '67c.wav',\n",
       " '68c.wav',\n",
       " '69c.wav',\n",
       " '70c.wav',\n",
       " '71c.wav',\n",
       " '72c.wav',\n",
       " '73c.wav',\n",
       " '74c.wav',\n",
       " '75c.wav',\n",
       " '76c.wav',\n",
       " '77c.wav',\n",
       " '78c.wav',\n",
       " '79c.wav',\n",
       " '80c.wav',\n",
       " '81c.wav',\n",
       " '82c.wav',\n",
       " '83c.wav',\n",
       " '84c.wav',\n",
       " '85c.wav',\n",
       " '86c.wav',\n",
       " '87c.wav',\n",
       " '88c.wav',\n",
       " '89c.wav',\n",
       " '90c.wav',\n",
       " '91c.wav',\n",
       " '92c.wav',\n",
       " '93c.wav',\n",
       " '94c.wav',\n",
       " '95c.wav',\n",
       " '96c.wav',\n",
       " '97c.wav',\n",
       " '98c.wav',\n",
       " '99c.wav',\n",
       " '100c.wav',\n",
       " '101c.wav',\n",
       " '102c.wav',\n",
       " '103c.wav',\n",
       " '104c.wav',\n",
       " '105c.wav',\n",
       " '106c.wav',\n",
       " '107c.wav',\n",
       " '110c.wav',\n",
       " '111c.wav',\n",
       " '112c.wav',\n",
       " '113c.wav',\n",
       " '114c.wav',\n",
       " '115c.wav',\n",
       " '116c.wav',\n",
       " '117c.wav',\n",
       " '118c.wav',\n",
       " '119c.wav',\n",
       " '120c.wav',\n",
       " '121c.wav',\n",
       " '122c.wav',\n",
       " '123c.wav',\n",
       " '124c.wav',\n",
       " '125c.wav',\n",
       " '126c.wav',\n",
       " '127c.wav',\n",
       " '128c.wav']"
      ]
     },
     "execution_count": 142,
     "metadata": {},
     "output_type": "execute_result"
    }
   ],
   "source": [
    "list(df.Clip_ID.str.split('c', expand = True)[0].drop_duplicates().astype(int).sort_values().apply(lambda x: str(x) + 'c.wav').unique())"
   ]
  },
  {
   "cell_type": "code",
   "execution_count": 143,
   "metadata": {},
   "outputs": [],
   "source": [
    "folder_path = 'audio'\n",
    "files = os.listdir(folder_path)"
   ]
  },
  {
   "cell_type": "code",
   "execution_count": 144,
   "metadata": {},
   "outputs": [
    {
     "data": {
      "text/html": [
       "<div>\n",
       "<style scoped>\n",
       "    .dataframe tbody tr th:only-of-type {\n",
       "        vertical-align: middle;\n",
       "    }\n",
       "\n",
       "    .dataframe tbody tr th {\n",
       "        vertical-align: top;\n",
       "    }\n",
       "\n",
       "    .dataframe thead th {\n",
       "        text-align: right;\n",
       "    }\n",
       "</style>\n",
       "<table border=\"1\" class=\"dataframe\">\n",
       "  <thead>\n",
       "    <tr style=\"text-align: right;\">\n",
       "      <th></th>\n",
       "      <th>Clip_ID</th>\n",
       "      <th>ampl_sd</th>\n",
       "      <th>ampl_noSilence_sd</th>\n",
       "      <th>entropy_mean</th>\n",
       "      <th>entropy_sd</th>\n",
       "      <th>roughness_mean</th>\n",
       "      <th>roughness_sd</th>\n",
       "      <th>HNR_mean</th>\n",
       "      <th>HNRVoiced_mean</th>\n",
       "      <th>CPP</th>\n",
       "      <th>Energy</th>\n",
       "      <th>SHR</th>\n",
       "      <th>SOE</th>\n",
       "      <th>Duration</th>\n",
       "      <th>pitch_mean</th>\n",
       "      <th>pitch_sd</th>\n",
       "      <th>scog_mean</th>\n",
       "      <th>scog_sd</th>\n",
       "    </tr>\n",
       "  </thead>\n",
       "  <tbody>\n",
       "    <tr>\n",
       "      <th>0</th>\n",
       "      <td>100c</td>\n",
       "      <td>0.061300</td>\n",
       "      <td>0.066719</td>\n",
       "      <td>0.091947</td>\n",
       "      <td>0.044515</td>\n",
       "      <td>27.218036</td>\n",
       "      <td>2.030098</td>\n",
       "      <td>0.403868</td>\n",
       "      <td>4.558904</td>\n",
       "      <td>17.826442</td>\n",
       "      <td>2.834125</td>\n",
       "      <td>0.229322</td>\n",
       "      <td>0.000296</td>\n",
       "      <td>1.863673</td>\n",
       "      <td>157.394941</td>\n",
       "      <td>85.340702</td>\n",
       "      <td>737.018521</td>\n",
       "      <td>519.431828</td>\n",
       "    </tr>\n",
       "    <tr>\n",
       "      <th>50</th>\n",
       "      <td>101c</td>\n",
       "      <td>0.078833</td>\n",
       "      <td>0.083597</td>\n",
       "      <td>0.091835</td>\n",
       "      <td>0.035573</td>\n",
       "      <td>22.163096</td>\n",
       "      <td>2.272628</td>\n",
       "      <td>4.907817</td>\n",
       "      <td>7.504166</td>\n",
       "      <td>14.351985</td>\n",
       "      <td>7.917767</td>\n",
       "      <td>0.167410</td>\n",
       "      <td>0.002007</td>\n",
       "      <td>2.664490</td>\n",
       "      <td>278.546142</td>\n",
       "      <td>101.727894</td>\n",
       "      <td>697.685982</td>\n",
       "      <td>583.348913</td>\n",
       "    </tr>\n",
       "    <tr>\n",
       "      <th>153</th>\n",
       "      <td>102c</td>\n",
       "      <td>0.054808</td>\n",
       "      <td>0.060597</td>\n",
       "      <td>0.090592</td>\n",
       "      <td>0.039513</td>\n",
       "      <td>23.977232</td>\n",
       "      <td>4.104959</td>\n",
       "      <td>2.643686</td>\n",
       "      <td>7.642977</td>\n",
       "      <td>14.815611</td>\n",
       "      <td>1.935207</td>\n",
       "      <td>0.143521</td>\n",
       "      <td>0.004359</td>\n",
       "      <td>3.395918</td>\n",
       "      <td>334.256952</td>\n",
       "      <td>66.230819</td>\n",
       "      <td>1708.163376</td>\n",
       "      <td>1593.250985</td>\n",
       "    </tr>\n",
       "    <tr>\n",
       "      <th>249</th>\n",
       "      <td>103c</td>\n",
       "      <td>0.073987</td>\n",
       "      <td>0.078620</td>\n",
       "      <td>0.098487</td>\n",
       "      <td>0.047868</td>\n",
       "      <td>19.593577</td>\n",
       "      <td>1.976736</td>\n",
       "      <td>12.472141</td>\n",
       "      <td>12.452400</td>\n",
       "      <td>14.841414</td>\n",
       "      <td>1.657570</td>\n",
       "      <td>0.076288</td>\n",
       "      <td>0.013621</td>\n",
       "      <td>4.153469</td>\n",
       "      <td>313.055578</td>\n",
       "      <td>57.372617</td>\n",
       "      <td>1084.897386</td>\n",
       "      <td>708.498029</td>\n",
       "    </tr>\n",
       "    <tr>\n",
       "      <th>335</th>\n",
       "      <td>104c</td>\n",
       "      <td>0.033820</td>\n",
       "      <td>0.033262</td>\n",
       "      <td>0.109808</td>\n",
       "      <td>0.075450</td>\n",
       "      <td>25.431254</td>\n",
       "      <td>3.431049</td>\n",
       "      <td>3.216515</td>\n",
       "      <td>6.497148</td>\n",
       "      <td>14.667693</td>\n",
       "      <td>0.877424</td>\n",
       "      <td>0.192082</td>\n",
       "      <td>0.005042</td>\n",
       "      <td>2.194286</td>\n",
       "      <td>355.085990</td>\n",
       "      <td>79.981193</td>\n",
       "      <td>1782.185209</td>\n",
       "      <td>1589.910636</td>\n",
       "    </tr>\n",
       "    <tr>\n",
       "      <th>...</th>\n",
       "      <td>...</td>\n",
       "      <td>...</td>\n",
       "      <td>...</td>\n",
       "      <td>...</td>\n",
       "      <td>...</td>\n",
       "      <td>...</td>\n",
       "      <td>...</td>\n",
       "      <td>...</td>\n",
       "      <td>...</td>\n",
       "      <td>...</td>\n",
       "      <td>...</td>\n",
       "      <td>...</td>\n",
       "      <td>...</td>\n",
       "      <td>...</td>\n",
       "      <td>...</td>\n",
       "      <td>...</td>\n",
       "      <td>...</td>\n",
       "      <td>...</td>\n",
       "    </tr>\n",
       "    <tr>\n",
       "      <th>18023</th>\n",
       "      <td>96c</td>\n",
       "      <td>0.048914</td>\n",
       "      <td>0.048251</td>\n",
       "      <td>0.041708</td>\n",
       "      <td>0.065907</td>\n",
       "      <td>25.478209</td>\n",
       "      <td>1.401522</td>\n",
       "      <td>6.027808</td>\n",
       "      <td>6.060795</td>\n",
       "      <td>18.808713</td>\n",
       "      <td>10.587264</td>\n",
       "      <td>0.020510</td>\n",
       "      <td>0.000649</td>\n",
       "      <td>3.631020</td>\n",
       "      <td>438.663537</td>\n",
       "      <td>35.353163</td>\n",
       "      <td>2069.201865</td>\n",
       "      <td>1239.575563</td>\n",
       "    </tr>\n",
       "    <tr>\n",
       "      <th>18129</th>\n",
       "      <td>97c</td>\n",
       "      <td>0.104244</td>\n",
       "      <td>0.100407</td>\n",
       "      <td>0.058220</td>\n",
       "      <td>0.040396</td>\n",
       "      <td>27.447279</td>\n",
       "      <td>1.745720</td>\n",
       "      <td>0.018186</td>\n",
       "      <td>5.447161</td>\n",
       "      <td>13.725320</td>\n",
       "      <td>4.095313</td>\n",
       "      <td>0.207976</td>\n",
       "      <td>0.003024</td>\n",
       "      <td>2.533878</td>\n",
       "      <td>424.670455</td>\n",
       "      <td>55.719387</td>\n",
       "      <td>2256.742282</td>\n",
       "      <td>1253.636035</td>\n",
       "    </tr>\n",
       "    <tr>\n",
       "      <th>18222</th>\n",
       "      <td>98c</td>\n",
       "      <td>0.072748</td>\n",
       "      <td>0.077720</td>\n",
       "      <td>0.125905</td>\n",
       "      <td>0.065673</td>\n",
       "      <td>20.472342</td>\n",
       "      <td>3.432922</td>\n",
       "      <td>10.925837</td>\n",
       "      <td>12.818887</td>\n",
       "      <td>18.852929</td>\n",
       "      <td>6.912494</td>\n",
       "      <td>0.126341</td>\n",
       "      <td>0.000812</td>\n",
       "      <td>3.552653</td>\n",
       "      <td>309.135974</td>\n",
       "      <td>39.727833</td>\n",
       "      <td>1193.980486</td>\n",
       "      <td>831.459394</td>\n",
       "    </tr>\n",
       "    <tr>\n",
       "      <th>18306</th>\n",
       "      <td>99c</td>\n",
       "      <td>0.075239</td>\n",
       "      <td>0.085171</td>\n",
       "      <td>0.123221</td>\n",
       "      <td>0.077602</td>\n",
       "      <td>23.838318</td>\n",
       "      <td>5.035740</td>\n",
       "      <td>4.248119</td>\n",
       "      <td>9.858138</td>\n",
       "      <td>13.953442</td>\n",
       "      <td>1.206724</td>\n",
       "      <td>0.102672</td>\n",
       "      <td>0.011197</td>\n",
       "      <td>1.890862</td>\n",
       "      <td>340.834242</td>\n",
       "      <td>54.840155</td>\n",
       "      <td>1248.568618</td>\n",
       "      <td>743.798136</td>\n",
       "    </tr>\n",
       "    <tr>\n",
       "      <th>18445</th>\n",
       "      <td>9c</td>\n",
       "      <td>0.059226</td>\n",
       "      <td>0.053507</td>\n",
       "      <td>0.059437</td>\n",
       "      <td>0.027672</td>\n",
       "      <td>22.442805</td>\n",
       "      <td>3.168380</td>\n",
       "      <td>4.976827</td>\n",
       "      <td>8.537721</td>\n",
       "      <td>16.125536</td>\n",
       "      <td>12.289126</td>\n",
       "      <td>0.159961</td>\n",
       "      <td>0.001331</td>\n",
       "      <td>3.265306</td>\n",
       "      <td>330.276139</td>\n",
       "      <td>104.399236</td>\n",
       "      <td>1459.299069</td>\n",
       "      <td>948.061602</td>\n",
       "    </tr>\n",
       "  </tbody>\n",
       "</table>\n",
       "<p>126 rows × 18 columns</p>\n",
       "</div>"
      ],
      "text/plain": [
       "      Clip_ID   ampl_sd  ampl_noSilence_sd  entropy_mean  entropy_sd  \\\n",
       "0        100c  0.061300           0.066719      0.091947    0.044515   \n",
       "50       101c  0.078833           0.083597      0.091835    0.035573   \n",
       "153      102c  0.054808           0.060597      0.090592    0.039513   \n",
       "249      103c  0.073987           0.078620      0.098487    0.047868   \n",
       "335      104c  0.033820           0.033262      0.109808    0.075450   \n",
       "...       ...       ...                ...           ...         ...   \n",
       "18023     96c  0.048914           0.048251      0.041708    0.065907   \n",
       "18129     97c  0.104244           0.100407      0.058220    0.040396   \n",
       "18222     98c  0.072748           0.077720      0.125905    0.065673   \n",
       "18306     99c  0.075239           0.085171      0.123221    0.077602   \n",
       "18445      9c  0.059226           0.053507      0.059437    0.027672   \n",
       "\n",
       "       roughness_mean  roughness_sd   HNR_mean  HNRVoiced_mean        CPP  \\\n",
       "0           27.218036      2.030098   0.403868        4.558904  17.826442   \n",
       "50          22.163096      2.272628   4.907817        7.504166  14.351985   \n",
       "153         23.977232      4.104959   2.643686        7.642977  14.815611   \n",
       "249         19.593577      1.976736  12.472141       12.452400  14.841414   \n",
       "335         25.431254      3.431049   3.216515        6.497148  14.667693   \n",
       "...               ...           ...        ...             ...        ...   \n",
       "18023       25.478209      1.401522   6.027808        6.060795  18.808713   \n",
       "18129       27.447279      1.745720   0.018186        5.447161  13.725320   \n",
       "18222       20.472342      3.432922  10.925837       12.818887  18.852929   \n",
       "18306       23.838318      5.035740   4.248119        9.858138  13.953442   \n",
       "18445       22.442805      3.168380   4.976827        8.537721  16.125536   \n",
       "\n",
       "          Energy       SHR       SOE  Duration  pitch_mean    pitch_sd  \\\n",
       "0       2.834125  0.229322  0.000296  1.863673  157.394941   85.340702   \n",
       "50      7.917767  0.167410  0.002007  2.664490  278.546142  101.727894   \n",
       "153     1.935207  0.143521  0.004359  3.395918  334.256952   66.230819   \n",
       "249     1.657570  0.076288  0.013621  4.153469  313.055578   57.372617   \n",
       "335     0.877424  0.192082  0.005042  2.194286  355.085990   79.981193   \n",
       "...          ...       ...       ...       ...         ...         ...   \n",
       "18023  10.587264  0.020510  0.000649  3.631020  438.663537   35.353163   \n",
       "18129   4.095313  0.207976  0.003024  2.533878  424.670455   55.719387   \n",
       "18222   6.912494  0.126341  0.000812  3.552653  309.135974   39.727833   \n",
       "18306   1.206724  0.102672  0.011197  1.890862  340.834242   54.840155   \n",
       "18445  12.289126  0.159961  0.001331  3.265306  330.276139  104.399236   \n",
       "\n",
       "         scog_mean      scog_sd  \n",
       "0       737.018521   519.431828  \n",
       "50      697.685982   583.348913  \n",
       "153    1708.163376  1593.250985  \n",
       "249    1084.897386   708.498029  \n",
       "335    1782.185209  1589.910636  \n",
       "...            ...          ...  \n",
       "18023  2069.201865  1239.575563  \n",
       "18129  2256.742282  1253.636035  \n",
       "18222  1193.980486   831.459394  \n",
       "18306  1248.568618   743.798136  \n",
       "18445  1459.299069   948.061602  \n",
       "\n",
       "[126 rows x 18 columns]"
      ]
     },
     "execution_count": 144,
     "metadata": {},
     "output_type": "execute_result"
    }
   ],
   "source": [
    "df.drop(['ListenerID', 'Rating', 'CulturalGroup', 'SpeakerSex'], axis = 1).drop_duplicates()"
   ]
  },
  {
   "attachments": {},
   "cell_type": "markdown",
   "metadata": {},
   "source": [
    "# TSNE"
   ]
  },
  {
   "cell_type": "code",
   "execution_count": 145,
   "metadata": {},
   "outputs": [],
   "source": [
    "from sklearn.preprocessing import StandardScaler\n",
    "from sklearn.manifold import TSNE\n",
    "from sklearn.cluster import KMeans"
   ]
  },
  {
   "cell_type": "code",
   "execution_count": 146,
   "metadata": {},
   "outputs": [],
   "source": [
    "df_tsne = df.loc[:, ['Clip_ID','entropy_mean' , 'entropy_sd', 'roughness_mean', 'HNR_mean', 'HNRVoiced_mean', 'CPP', 'pitch_mean', 'pitch_sd', 'scog_mean', 'scog_sd', 'Duration']].drop_duplicates().reset_index(drop = True)"
   ]
  },
  {
   "cell_type": "code",
   "execution_count": 147,
   "metadata": {},
   "outputs": [],
   "source": [
    "X = df_tsne.iloc[:, 1:]"
   ]
  },
  {
   "cell_type": "code",
   "execution_count": 148,
   "metadata": {},
   "outputs": [],
   "source": [
    "X['HNRVoiced_mean'] = X['HNRVoiced_mean'].fillna(X['HNRVoiced_mean'].median())"
   ]
  },
  {
   "cell_type": "code",
   "execution_count": 149,
   "metadata": {},
   "outputs": [],
   "source": [
    "X_scaled = StandardScaler().fit_transform(X)"
   ]
  },
  {
   "cell_type": "code",
   "execution_count": 150,
   "metadata": {},
   "outputs": [
    {
     "data": {
      "text/plain": [
       "(126, 2)"
      ]
     },
     "execution_count": 150,
     "metadata": {},
     "output_type": "execute_result"
    }
   ],
   "source": [
    "X_embedded = TSNE(n_components=2, random_state = 42).fit_transform(X_scaled)\n",
    "X_embedded.shape"
   ]
  },
  {
   "cell_type": "code",
   "execution_count": 151,
   "metadata": {},
   "outputs": [],
   "source": [
    "df_tsne['Embed 1'] = X_embedded[:, 0]\n",
    "df_tsne['Embed 2'] = X_embedded[:, 1]"
   ]
  },
  {
   "cell_type": "code",
   "execution_count": 152,
   "metadata": {},
   "outputs": [
    {
     "data": {
      "text/html": [
       "<div>\n",
       "<style scoped>\n",
       "    .dataframe tbody tr th:only-of-type {\n",
       "        vertical-align: middle;\n",
       "    }\n",
       "\n",
       "    .dataframe tbody tr th {\n",
       "        vertical-align: top;\n",
       "    }\n",
       "\n",
       "    .dataframe thead th {\n",
       "        text-align: right;\n",
       "    }\n",
       "</style>\n",
       "<table border=\"1\" class=\"dataframe\">\n",
       "  <thead>\n",
       "    <tr style=\"text-align: right;\">\n",
       "      <th></th>\n",
       "      <th>Clip_ID</th>\n",
       "      <th>entropy_mean</th>\n",
       "      <th>entropy_sd</th>\n",
       "      <th>roughness_mean</th>\n",
       "      <th>HNR_mean</th>\n",
       "      <th>HNRVoiced_mean</th>\n",
       "      <th>CPP</th>\n",
       "      <th>pitch_mean</th>\n",
       "      <th>pitch_sd</th>\n",
       "      <th>scog_mean</th>\n",
       "      <th>scog_sd</th>\n",
       "      <th>Duration</th>\n",
       "      <th>Embed 1</th>\n",
       "      <th>Embed 2</th>\n",
       "      <th>Clip_ID</th>\n",
       "      <th>Rating</th>\n",
       "    </tr>\n",
       "  </thead>\n",
       "  <tbody>\n",
       "    <tr>\n",
       "      <th>0</th>\n",
       "      <td>100c</td>\n",
       "      <td>0.091947</td>\n",
       "      <td>0.044515</td>\n",
       "      <td>27.218036</td>\n",
       "      <td>0.403868</td>\n",
       "      <td>4.558904</td>\n",
       "      <td>17.826442</td>\n",
       "      <td>157.394941</td>\n",
       "      <td>85.340702</td>\n",
       "      <td>737.018521</td>\n",
       "      <td>519.431828</td>\n",
       "      <td>1.863673</td>\n",
       "      <td>7.772048</td>\n",
       "      <td>3.851555</td>\n",
       "      <td>100c</td>\n",
       "      <td>1.360000</td>\n",
       "    </tr>\n",
       "    <tr>\n",
       "      <th>1</th>\n",
       "      <td>101c</td>\n",
       "      <td>0.091835</td>\n",
       "      <td>0.035573</td>\n",
       "      <td>22.163096</td>\n",
       "      <td>4.907817</td>\n",
       "      <td>7.504166</td>\n",
       "      <td>14.351985</td>\n",
       "      <td>278.546142</td>\n",
       "      <td>101.727894</td>\n",
       "      <td>697.685982</td>\n",
       "      <td>583.348913</td>\n",
       "      <td>2.664490</td>\n",
       "      <td>5.393764</td>\n",
       "      <td>0.547831</td>\n",
       "      <td>101c</td>\n",
       "      <td>2.737864</td>\n",
       "    </tr>\n",
       "    <tr>\n",
       "      <th>2</th>\n",
       "      <td>102c</td>\n",
       "      <td>0.090592</td>\n",
       "      <td>0.039513</td>\n",
       "      <td>23.977232</td>\n",
       "      <td>2.643686</td>\n",
       "      <td>7.642977</td>\n",
       "      <td>14.815611</td>\n",
       "      <td>334.256952</td>\n",
       "      <td>66.230819</td>\n",
       "      <td>1708.163376</td>\n",
       "      <td>1593.250985</td>\n",
       "      <td>3.395918</td>\n",
       "      <td>-1.463863</td>\n",
       "      <td>3.297949</td>\n",
       "      <td>102c</td>\n",
       "      <td>3.427083</td>\n",
       "    </tr>\n",
       "    <tr>\n",
       "      <th>3</th>\n",
       "      <td>103c</td>\n",
       "      <td>0.098487</td>\n",
       "      <td>0.047868</td>\n",
       "      <td>19.593577</td>\n",
       "      <td>12.472141</td>\n",
       "      <td>12.452400</td>\n",
       "      <td>14.841414</td>\n",
       "      <td>313.055578</td>\n",
       "      <td>57.372617</td>\n",
       "      <td>1084.897386</td>\n",
       "      <td>708.498029</td>\n",
       "      <td>4.153469</td>\n",
       "      <td>0.581973</td>\n",
       "      <td>-6.835349</td>\n",
       "      <td>103c</td>\n",
       "      <td>3.220930</td>\n",
       "    </tr>\n",
       "    <tr>\n",
       "      <th>4</th>\n",
       "      <td>104c</td>\n",
       "      <td>0.109808</td>\n",
       "      <td>0.075450</td>\n",
       "      <td>25.431254</td>\n",
       "      <td>3.216515</td>\n",
       "      <td>6.497148</td>\n",
       "      <td>14.667693</td>\n",
       "      <td>355.085990</td>\n",
       "      <td>79.981193</td>\n",
       "      <td>1782.185209</td>\n",
       "      <td>1589.910636</td>\n",
       "      <td>2.194286</td>\n",
       "      <td>-2.331583</td>\n",
       "      <td>2.924759</td>\n",
       "      <td>104c</td>\n",
       "      <td>2.247788</td>\n",
       "    </tr>\n",
       "    <tr>\n",
       "      <th>...</th>\n",
       "      <td>...</td>\n",
       "      <td>...</td>\n",
       "      <td>...</td>\n",
       "      <td>...</td>\n",
       "      <td>...</td>\n",
       "      <td>...</td>\n",
       "      <td>...</td>\n",
       "      <td>...</td>\n",
       "      <td>...</td>\n",
       "      <td>...</td>\n",
       "      <td>...</td>\n",
       "      <td>...</td>\n",
       "      <td>...</td>\n",
       "      <td>...</td>\n",
       "      <td>...</td>\n",
       "      <td>...</td>\n",
       "    </tr>\n",
       "    <tr>\n",
       "      <th>121</th>\n",
       "      <td>96c</td>\n",
       "      <td>0.041708</td>\n",
       "      <td>0.065907</td>\n",
       "      <td>25.478209</td>\n",
       "      <td>6.027808</td>\n",
       "      <td>6.060795</td>\n",
       "      <td>18.808713</td>\n",
       "      <td>438.663537</td>\n",
       "      <td>35.353163</td>\n",
       "      <td>2069.201865</td>\n",
       "      <td>1239.575563</td>\n",
       "      <td>3.631020</td>\n",
       "      <td>-3.540001</td>\n",
       "      <td>-1.131849</td>\n",
       "      <td>96c</td>\n",
       "      <td>3.415094</td>\n",
       "    </tr>\n",
       "    <tr>\n",
       "      <th>122</th>\n",
       "      <td>97c</td>\n",
       "      <td>0.058220</td>\n",
       "      <td>0.040396</td>\n",
       "      <td>27.447279</td>\n",
       "      <td>0.018186</td>\n",
       "      <td>5.447161</td>\n",
       "      <td>13.725320</td>\n",
       "      <td>424.670455</td>\n",
       "      <td>55.719387</td>\n",
       "      <td>2256.742282</td>\n",
       "      <td>1253.636035</td>\n",
       "      <td>2.533878</td>\n",
       "      <td>-1.041741</td>\n",
       "      <td>5.856797</td>\n",
       "      <td>97c</td>\n",
       "      <td>2.838710</td>\n",
       "    </tr>\n",
       "    <tr>\n",
       "      <th>123</th>\n",
       "      <td>98c</td>\n",
       "      <td>0.125905</td>\n",
       "      <td>0.065673</td>\n",
       "      <td>20.472342</td>\n",
       "      <td>10.925837</td>\n",
       "      <td>12.818887</td>\n",
       "      <td>18.852929</td>\n",
       "      <td>309.135974</td>\n",
       "      <td>39.727833</td>\n",
       "      <td>1193.980486</td>\n",
       "      <td>831.459394</td>\n",
       "      <td>3.552653</td>\n",
       "      <td>-0.213319</td>\n",
       "      <td>-6.558255</td>\n",
       "      <td>98c</td>\n",
       "      <td>3.178571</td>\n",
       "    </tr>\n",
       "    <tr>\n",
       "      <th>124</th>\n",
       "      <td>99c</td>\n",
       "      <td>0.123221</td>\n",
       "      <td>0.077602</td>\n",
       "      <td>23.838318</td>\n",
       "      <td>4.248119</td>\n",
       "      <td>9.858138</td>\n",
       "      <td>13.953442</td>\n",
       "      <td>340.834242</td>\n",
       "      <td>54.840155</td>\n",
       "      <td>1248.568618</td>\n",
       "      <td>743.798136</td>\n",
       "      <td>1.890862</td>\n",
       "      <td>3.420829</td>\n",
       "      <td>-2.804352</td>\n",
       "      <td>99c</td>\n",
       "      <td>3.086331</td>\n",
       "    </tr>\n",
       "    <tr>\n",
       "      <th>125</th>\n",
       "      <td>9c</td>\n",
       "      <td>0.059437</td>\n",
       "      <td>0.027672</td>\n",
       "      <td>22.442805</td>\n",
       "      <td>4.976827</td>\n",
       "      <td>8.537721</td>\n",
       "      <td>16.125536</td>\n",
       "      <td>330.276139</td>\n",
       "      <td>104.399236</td>\n",
       "      <td>1459.299069</td>\n",
       "      <td>948.061602</td>\n",
       "      <td>3.265306</td>\n",
       "      <td>2.254101</td>\n",
       "      <td>0.622722</td>\n",
       "      <td>9c</td>\n",
       "      <td>2.922481</td>\n",
       "    </tr>\n",
       "  </tbody>\n",
       "</table>\n",
       "<p>126 rows × 16 columns</p>\n",
       "</div>"
      ],
      "text/plain": [
       "    Clip_ID  entropy_mean  entropy_sd  roughness_mean   HNR_mean  \\\n",
       "0      100c      0.091947    0.044515       27.218036   0.403868   \n",
       "1      101c      0.091835    0.035573       22.163096   4.907817   \n",
       "2      102c      0.090592    0.039513       23.977232   2.643686   \n",
       "3      103c      0.098487    0.047868       19.593577  12.472141   \n",
       "4      104c      0.109808    0.075450       25.431254   3.216515   \n",
       "..      ...           ...         ...             ...        ...   \n",
       "121     96c      0.041708    0.065907       25.478209   6.027808   \n",
       "122     97c      0.058220    0.040396       27.447279   0.018186   \n",
       "123     98c      0.125905    0.065673       20.472342  10.925837   \n",
       "124     99c      0.123221    0.077602       23.838318   4.248119   \n",
       "125      9c      0.059437    0.027672       22.442805   4.976827   \n",
       "\n",
       "     HNRVoiced_mean        CPP  pitch_mean    pitch_sd    scog_mean  \\\n",
       "0          4.558904  17.826442  157.394941   85.340702   737.018521   \n",
       "1          7.504166  14.351985  278.546142  101.727894   697.685982   \n",
       "2          7.642977  14.815611  334.256952   66.230819  1708.163376   \n",
       "3         12.452400  14.841414  313.055578   57.372617  1084.897386   \n",
       "4          6.497148  14.667693  355.085990   79.981193  1782.185209   \n",
       "..              ...        ...         ...         ...          ...   \n",
       "121        6.060795  18.808713  438.663537   35.353163  2069.201865   \n",
       "122        5.447161  13.725320  424.670455   55.719387  2256.742282   \n",
       "123       12.818887  18.852929  309.135974   39.727833  1193.980486   \n",
       "124        9.858138  13.953442  340.834242   54.840155  1248.568618   \n",
       "125        8.537721  16.125536  330.276139  104.399236  1459.299069   \n",
       "\n",
       "         scog_sd  Duration   Embed 1   Embed 2 Clip_ID    Rating  \n",
       "0     519.431828  1.863673  7.772048  3.851555    100c  1.360000  \n",
       "1     583.348913  2.664490  5.393764  0.547831    101c  2.737864  \n",
       "2    1593.250985  3.395918 -1.463863  3.297949    102c  3.427083  \n",
       "3     708.498029  4.153469  0.581973 -6.835349    103c  3.220930  \n",
       "4    1589.910636  2.194286 -2.331583  2.924759    104c  2.247788  \n",
       "..           ...       ...       ...       ...     ...       ...  \n",
       "121  1239.575563  3.631020 -3.540001 -1.131849     96c  3.415094  \n",
       "122  1253.636035  2.533878 -1.041741  5.856797     97c  2.838710  \n",
       "123   831.459394  3.552653 -0.213319 -6.558255     98c  3.178571  \n",
       "124   743.798136  1.890862  3.420829 -2.804352     99c  3.086331  \n",
       "125   948.061602  3.265306  2.254101  0.622722      9c  2.922481  \n",
       "\n",
       "[126 rows x 16 columns]"
      ]
     },
     "execution_count": 152,
     "metadata": {},
     "output_type": "execute_result"
    }
   ],
   "source": [
    "pd.concat([df_tsne, df.groupby('Clip_ID')['Rating'].mean().reset_index()], axis = 1)"
   ]
  },
  {
   "cell_type": "code",
   "execution_count": 153,
   "metadata": {},
   "outputs": [
    {
     "name": "stderr",
     "output_type": "stream",
     "text": [
      "/Users/tahaerensarnic/Desktop/contagious-viz/venv/lib/python3.9/site-packages/sklearn/cluster/_kmeans.py:870: FutureWarning:\n",
      "\n",
      "The default value of `n_init` will change from 10 to 'auto' in 1.4. Set the value of `n_init` explicitly to suppress the warning\n",
      "\n",
      "/Users/tahaerensarnic/Desktop/contagious-viz/venv/lib/python3.9/site-packages/sklearn/cluster/_kmeans.py:870: FutureWarning:\n",
      "\n",
      "The default value of `n_init` will change from 10 to 'auto' in 1.4. Set the value of `n_init` explicitly to suppress the warning\n",
      "\n",
      "/Users/tahaerensarnic/Desktop/contagious-viz/venv/lib/python3.9/site-packages/sklearn/cluster/_kmeans.py:870: FutureWarning:\n",
      "\n",
      "The default value of `n_init` will change from 10 to 'auto' in 1.4. Set the value of `n_init` explicitly to suppress the warning\n",
      "\n",
      "/Users/tahaerensarnic/Desktop/contagious-viz/venv/lib/python3.9/site-packages/sklearn/cluster/_kmeans.py:870: FutureWarning:\n",
      "\n",
      "The default value of `n_init` will change from 10 to 'auto' in 1.4. Set the value of `n_init` explicitly to suppress the warning\n",
      "\n",
      "/Users/tahaerensarnic/Desktop/contagious-viz/venv/lib/python3.9/site-packages/sklearn/cluster/_kmeans.py:870: FutureWarning:\n",
      "\n",
      "The default value of `n_init` will change from 10 to 'auto' in 1.4. Set the value of `n_init` explicitly to suppress the warning\n",
      "\n",
      "/Users/tahaerensarnic/Desktop/contagious-viz/venv/lib/python3.9/site-packages/sklearn/cluster/_kmeans.py:870: FutureWarning:\n",
      "\n",
      "The default value of `n_init` will change from 10 to 'auto' in 1.4. Set the value of `n_init` explicitly to suppress the warning\n",
      "\n",
      "/Users/tahaerensarnic/Desktop/contagious-viz/venv/lib/python3.9/site-packages/sklearn/cluster/_kmeans.py:870: FutureWarning:\n",
      "\n",
      "The default value of `n_init` will change from 10 to 'auto' in 1.4. Set the value of `n_init` explicitly to suppress the warning\n",
      "\n",
      "/Users/tahaerensarnic/Desktop/contagious-viz/venv/lib/python3.9/site-packages/sklearn/cluster/_kmeans.py:870: FutureWarning:\n",
      "\n",
      "The default value of `n_init` will change from 10 to 'auto' in 1.4. Set the value of `n_init` explicitly to suppress the warning\n",
      "\n",
      "/Users/tahaerensarnic/Desktop/contagious-viz/venv/lib/python3.9/site-packages/sklearn/cluster/_kmeans.py:870: FutureWarning:\n",
      "\n",
      "The default value of `n_init` will change from 10 to 'auto' in 1.4. Set the value of `n_init` explicitly to suppress the warning\n",
      "\n",
      "/Users/tahaerensarnic/Desktop/contagious-viz/venv/lib/python3.9/site-packages/sklearn/cluster/_kmeans.py:870: FutureWarning:\n",
      "\n",
      "The default value of `n_init` will change from 10 to 'auto' in 1.4. Set the value of `n_init` explicitly to suppress the warning\n",
      "\n"
     ]
    }
   ],
   "source": [
    "# Birden fazla KMeans modeli kurma\n",
    "kume_ici_var = []\n",
    "for sayi in range(1,11):\n",
    "    # KMeans objesi oluşturma\n",
    "    kmeans = KMeans(n_clusters = sayi, random_state = 42)\n",
    "    # Modelin eğitilmesi\n",
    "    kmeans.fit(X_scaled)\n",
    "    # Küme-içi varyasyon toplamlarının ilgili listeye eklenmesi\n",
    "    kume_ici_var.append(kmeans.inertia_)"
   ]
  },
  {
   "cell_type": "code",
   "execution_count": 180,
   "metadata": {},
   "outputs": [
    {
     "data": {
      "text/plain": [
       "[1386.0,\n",
       " 1157.338965368262,\n",
       " 1016.364522532645,\n",
       " 930.481534012986,\n",
       " 851.3500283465423,\n",
       " 792.328824588673,\n",
       " 756.7694003264337,\n",
       " 711.184831841256,\n",
       " 687.2356759308236,\n",
       " 652.5466600989791]"
      ]
     },
     "execution_count": 180,
     "metadata": {},
     "output_type": "execute_result"
    }
   ],
   "source": [
    "kume_ici_var"
   ]
  },
  {
   "cell_type": "code",
   "execution_count": 154,
   "metadata": {},
   "outputs": [
    {
     "data": {
      "image/png": "[encoded data removed]",
      "text/plain": [
       "<Figure size 640x480 with 1 Axes>"
      ]
     },
     "metadata": {},
     "output_type": "display_data"
    }
   ],
   "source": [
    "# Dirsek yöntemi için çizgi grafiği\n",
    "plt.plot(list(range(1, 11)), kume_ici_var)\n",
    "plt.xticks(ticks = list(range(1, 11)))\n",
    "plt.xlabel('Küme Sayısı')\n",
    "plt.ylabel('Küme-İçi Varyasyon Toplamı')\n",
    "plt.title('Optimal Küme Seçimi için Çizgi Grafiği (Elbow-Method)')\n",
    "plt.show() "
   ]
  },
  {
   "cell_type": "code",
   "execution_count": 155,
   "metadata": {},
   "outputs": [
    {
     "name": "stderr",
     "output_type": "stream",
     "text": [
      "/Users/tahaerensarnic/Desktop/contagious-viz/venv/lib/python3.9/site-packages/sklearn/cluster/_kmeans.py:870: FutureWarning:\n",
      "\n",
      "The default value of `n_init` will change from 10 to 'auto' in 1.4. Set the value of `n_init` explicitly to suppress the warning\n",
      "\n"
     ]
    },
    {
     "data": {
      "text/html": [
       "<style>#sk-container-id-2 {color: black;background-color: white;}#sk-container-id-2 pre{padding: 0;}#sk-container-id-2 div.sk-toggleable {background-color: white;}#sk-container-id-2 label.sk-toggleable__label {cursor: pointer;display: block;width: 100%;margin-bottom: 0;padding: 0.3em;box-sizing: border-box;text-align: center;}#sk-container-id-2 label.sk-toggleable__label-arrow:before {content: \"▸\";float: left;margin-right: 0.25em;color: #696969;}#sk-container-id-2 label.sk-toggleable__label-arrow:hover:before {color: black;}#sk-container-id-2 div.sk-estimator:hover label.sk-toggleable__label-arrow:before {color: black;}#sk-container-id-2 div.sk-toggleable__content {max-height: 0;max-width: 0;overflow: hidden;text-align: left;background-color: #f0f8ff;}#sk-container-id-2 div.sk-toggleable__content pre {margin: 0.2em;color: black;border-radius: 0.25em;background-color: #f0f8ff;}#sk-container-id-2 input.sk-toggleable__control:checked~div.sk-toggleable__content {max-height: 200px;max-width: 100%;overflow: auto;}#sk-container-id-2 input.sk-toggleable__control:checked~label.sk-toggleable__label-arrow:before {content: \"▾\";}#sk-container-id-2 div.sk-estimator input.sk-toggleable__control:checked~label.sk-toggleable__label {background-color: #d4ebff;}#sk-container-id-2 div.sk-label input.sk-toggleable__control:checked~label.sk-toggleable__label {background-color: #d4ebff;}#sk-container-id-2 input.sk-hidden--visually {border: 0;clip: rect(1px 1px 1px 1px);clip: rect(1px, 1px, 1px, 1px);height: 1px;margin: -1px;overflow: hidden;padding: 0;position: absolute;width: 1px;}#sk-container-id-2 div.sk-estimator {font-family: monospace;background-color: #f0f8ff;border: 1px dotted black;border-radius: 0.25em;box-sizing: border-box;margin-bottom: 0.5em;}#sk-container-id-2 div.sk-estimator:hover {background-color: #d4ebff;}#sk-container-id-2 div.sk-parallel-item::after {content: \"\";width: 100%;border-bottom: 1px solid gray;flex-grow: 1;}#sk-container-id-2 div.sk-label:hover label.sk-toggleable__label {background-color: #d4ebff;}#sk-container-id-2 div.sk-serial::before {content: \"\";position: absolute;border-left: 1px solid gray;box-sizing: border-box;top: 0;bottom: 0;left: 50%;z-index: 0;}#sk-container-id-2 div.sk-serial {display: flex;flex-direction: column;align-items: center;background-color: white;padding-right: 0.2em;padding-left: 0.2em;position: relative;}#sk-container-id-2 div.sk-item {position: relative;z-index: 1;}#sk-container-id-2 div.sk-parallel {display: flex;align-items: stretch;justify-content: center;background-color: white;position: relative;}#sk-container-id-2 div.sk-item::before, #sk-container-id-2 div.sk-parallel-item::before {content: \"\";position: absolute;border-left: 1px solid gray;box-sizing: border-box;top: 0;bottom: 0;left: 50%;z-index: -1;}#sk-container-id-2 div.sk-parallel-item {display: flex;flex-direction: column;z-index: 1;position: relative;background-color: white;}#sk-container-id-2 div.sk-parallel-item:first-child::after {align-self: flex-end;width: 50%;}#sk-container-id-2 div.sk-parallel-item:last-child::after {align-self: flex-start;width: 50%;}#sk-container-id-2 div.sk-parallel-item:only-child::after {width: 0;}#sk-container-id-2 div.sk-dashed-wrapped {border: 1px dashed gray;margin: 0 0.4em 0.5em 0.4em;box-sizing: border-box;padding-bottom: 0.4em;background-color: white;}#sk-container-id-2 div.sk-label label {font-family: monospace;font-weight: bold;display: inline-block;line-height: 1.2em;}#sk-container-id-2 div.sk-label-container {text-align: center;}#sk-container-id-2 div.sk-container {/* jupyter's `normalize.less` sets `[hidden] { display: none; }` but bootstrap.min.css set `[hidden] { display: none !important; }` so we also need the `!important` here to be able to override the default hidden behavior on the sphinx rendered scikit-learn.org. See: https://github.com/scikit-learn/scikit-learn/issues/21755 */display: inline-block !important;position: relative;}#sk-container-id-2 div.sk-text-repr-fallback {display: none;}</style><div id=\"sk-container-id-2\" class=\"sk-top-container\"><div class=\"sk-text-repr-fallback\"><pre>KMeans(n_clusters=5, random_state=42)</pre><b>In a Jupyter environment, please rerun this cell to show the HTML representation or trust the notebook. <br />On GitHub, the HTML representation is unable to render, please try loading this page with nbviewer.org.</b></div><div class=\"sk-container\" hidden><div class=\"sk-item\"><div class=\"sk-estimator sk-toggleable\"><input class=\"sk-toggleable__control sk-hidden--visually\" id=\"sk-estimator-id-2\" type=\"checkbox\" checked><label for=\"sk-estimator-id-2\" class=\"sk-toggleable__label sk-toggleable__label-arrow\">KMeans</label><div class=\"sk-toggleable__content\"><pre>KMeans(n_clusters=5, random_state=42)</pre></div></div></div></div></div>"
      ],
      "text/plain": [
       "KMeans(n_clusters=5, random_state=42)"
      ]
     },
     "execution_count": 155,
     "metadata": {},
     "output_type": "execute_result"
    }
   ],
   "source": [
    "# Nihai KMeans modeli\n",
    "kmeans = KMeans(n_clusters = 5, random_state = 42)\n",
    "\n",
    "# Modelin eğitilmesi\n",
    "kmeans.fit(X_scaled)"
   ]
  },
  {
   "cell_type": "code",
   "execution_count": 156,
   "metadata": {},
   "outputs": [
    {
     "data": {
      "text/plain": [
       "0    41\n",
       "3    32\n",
       "1    20\n",
       "4    19\n",
       "2    14\n",
       "dtype: int64"
      ]
     },
     "execution_count": 156,
     "metadata": {},
     "output_type": "execute_result"
    }
   ],
   "source": [
    "# Kümelere düşen gözlemlerin dağılımı\n",
    "pd.Series(kmeans.labels_).value_counts()"
   ]
  },
  {
   "cell_type": "code",
   "execution_count": 157,
   "metadata": {},
   "outputs": [],
   "source": [
    "X['cluster'] = kmeans.labels_"
   ]
  },
  {
   "cell_type": "code",
   "execution_count": 158,
   "metadata": {},
   "outputs": [],
   "source": [
    "df_tsne = pd.concat([df_tsne, df.groupby('Clip_ID')['Rating'].mean().reset_index()], axis = 1)"
   ]
  },
  {
   "cell_type": "code",
   "execution_count": 159,
   "metadata": {},
   "outputs": [],
   "source": [
    "df_tsne['cluster'] = kmeans.labels_"
   ]
  },
  {
   "cell_type": "code",
   "execution_count": 160,
   "metadata": {},
   "outputs": [],
   "source": [
    "df_tsne['cluster'] = df_tsne['cluster'].astype('object')"
   ]
  },
  {
   "cell_type": "code",
   "execution_count": 161,
   "metadata": {},
   "outputs": [
    {
     "data": {
      "text/html": [
       "<div>\n",
       "<style scoped>\n",
       "    .dataframe tbody tr th:only-of-type {\n",
       "        vertical-align: middle;\n",
       "    }\n",
       "\n",
       "    .dataframe tbody tr th {\n",
       "        vertical-align: top;\n",
       "    }\n",
       "\n",
       "    .dataframe thead th {\n",
       "        text-align: right;\n",
       "    }\n",
       "</style>\n",
       "<table border=\"1\" class=\"dataframe\">\n",
       "  <thead>\n",
       "    <tr style=\"text-align: right;\">\n",
       "      <th></th>\n",
       "      <th>Clip_ID</th>\n",
       "      <th>entropy_mean</th>\n",
       "      <th>entropy_sd</th>\n",
       "      <th>roughness_mean</th>\n",
       "      <th>HNR_mean</th>\n",
       "      <th>HNRVoiced_mean</th>\n",
       "      <th>CPP</th>\n",
       "      <th>pitch_mean</th>\n",
       "      <th>pitch_sd</th>\n",
       "      <th>scog_mean</th>\n",
       "      <th>scog_sd</th>\n",
       "      <th>Duration</th>\n",
       "      <th>Embed 1</th>\n",
       "      <th>Embed 2</th>\n",
       "      <th>Clip_ID</th>\n",
       "      <th>Rating</th>\n",
       "      <th>cluster</th>\n",
       "    </tr>\n",
       "  </thead>\n",
       "  <tbody>\n",
       "    <tr>\n",
       "      <th>0</th>\n",
       "      <td>100c</td>\n",
       "      <td>0.091947</td>\n",
       "      <td>0.044515</td>\n",
       "      <td>27.218036</td>\n",
       "      <td>0.403868</td>\n",
       "      <td>4.558904</td>\n",
       "      <td>17.826442</td>\n",
       "      <td>157.394941</td>\n",
       "      <td>85.340702</td>\n",
       "      <td>737.018521</td>\n",
       "      <td>519.431828</td>\n",
       "      <td>1.863673</td>\n",
       "      <td>7.772048</td>\n",
       "      <td>3.851555</td>\n",
       "      <td>100c</td>\n",
       "      <td>1.360000</td>\n",
       "      <td>4</td>\n",
       "    </tr>\n",
       "    <tr>\n",
       "      <th>1</th>\n",
       "      <td>101c</td>\n",
       "      <td>0.091835</td>\n",
       "      <td>0.035573</td>\n",
       "      <td>22.163096</td>\n",
       "      <td>4.907817</td>\n",
       "      <td>7.504166</td>\n",
       "      <td>14.351985</td>\n",
       "      <td>278.546142</td>\n",
       "      <td>101.727894</td>\n",
       "      <td>697.685982</td>\n",
       "      <td>583.348913</td>\n",
       "      <td>2.664490</td>\n",
       "      <td>5.393764</td>\n",
       "      <td>0.547831</td>\n",
       "      <td>101c</td>\n",
       "      <td>2.737864</td>\n",
       "      <td>4</td>\n",
       "    </tr>\n",
       "    <tr>\n",
       "      <th>2</th>\n",
       "      <td>102c</td>\n",
       "      <td>0.090592</td>\n",
       "      <td>0.039513</td>\n",
       "      <td>23.977232</td>\n",
       "      <td>2.643686</td>\n",
       "      <td>7.642977</td>\n",
       "      <td>14.815611</td>\n",
       "      <td>334.256952</td>\n",
       "      <td>66.230819</td>\n",
       "      <td>1708.163376</td>\n",
       "      <td>1593.250985</td>\n",
       "      <td>3.395918</td>\n",
       "      <td>-1.463863</td>\n",
       "      <td>3.297949</td>\n",
       "      <td>102c</td>\n",
       "      <td>3.427083</td>\n",
       "      <td>3</td>\n",
       "    </tr>\n",
       "    <tr>\n",
       "      <th>3</th>\n",
       "      <td>103c</td>\n",
       "      <td>0.098487</td>\n",
       "      <td>0.047868</td>\n",
       "      <td>19.593577</td>\n",
       "      <td>12.472141</td>\n",
       "      <td>12.452400</td>\n",
       "      <td>14.841414</td>\n",
       "      <td>313.055578</td>\n",
       "      <td>57.372617</td>\n",
       "      <td>1084.897386</td>\n",
       "      <td>708.498029</td>\n",
       "      <td>4.153469</td>\n",
       "      <td>0.581973</td>\n",
       "      <td>-6.835349</td>\n",
       "      <td>103c</td>\n",
       "      <td>3.220930</td>\n",
       "      <td>2</td>\n",
       "    </tr>\n",
       "    <tr>\n",
       "      <th>4</th>\n",
       "      <td>104c</td>\n",
       "      <td>0.109808</td>\n",
       "      <td>0.075450</td>\n",
       "      <td>25.431254</td>\n",
       "      <td>3.216515</td>\n",
       "      <td>6.497148</td>\n",
       "      <td>14.667693</td>\n",
       "      <td>355.085990</td>\n",
       "      <td>79.981193</td>\n",
       "      <td>1782.185209</td>\n",
       "      <td>1589.910636</td>\n",
       "      <td>2.194286</td>\n",
       "      <td>-2.331583</td>\n",
       "      <td>2.924759</td>\n",
       "      <td>104c</td>\n",
       "      <td>2.247788</td>\n",
       "      <td>3</td>\n",
       "    </tr>\n",
       "    <tr>\n",
       "      <th>...</th>\n",
       "      <td>...</td>\n",
       "      <td>...</td>\n",
       "      <td>...</td>\n",
       "      <td>...</td>\n",
       "      <td>...</td>\n",
       "      <td>...</td>\n",
       "      <td>...</td>\n",
       "      <td>...</td>\n",
       "      <td>...</td>\n",
       "      <td>...</td>\n",
       "      <td>...</td>\n",
       "      <td>...</td>\n",
       "      <td>...</td>\n",
       "      <td>...</td>\n",
       "      <td>...</td>\n",
       "      <td>...</td>\n",
       "      <td>...</td>\n",
       "    </tr>\n",
       "    <tr>\n",
       "      <th>121</th>\n",
       "      <td>96c</td>\n",
       "      <td>0.041708</td>\n",
       "      <td>0.065907</td>\n",
       "      <td>25.478209</td>\n",
       "      <td>6.027808</td>\n",
       "      <td>6.060795</td>\n",
       "      <td>18.808713</td>\n",
       "      <td>438.663537</td>\n",
       "      <td>35.353163</td>\n",
       "      <td>2069.201865</td>\n",
       "      <td>1239.575563</td>\n",
       "      <td>3.631020</td>\n",
       "      <td>-3.540001</td>\n",
       "      <td>-1.131849</td>\n",
       "      <td>96c</td>\n",
       "      <td>3.415094</td>\n",
       "      <td>3</td>\n",
       "    </tr>\n",
       "    <tr>\n",
       "      <th>122</th>\n",
       "      <td>97c</td>\n",
       "      <td>0.058220</td>\n",
       "      <td>0.040396</td>\n",
       "      <td>27.447279</td>\n",
       "      <td>0.018186</td>\n",
       "      <td>5.447161</td>\n",
       "      <td>13.725320</td>\n",
       "      <td>424.670455</td>\n",
       "      <td>55.719387</td>\n",
       "      <td>2256.742282</td>\n",
       "      <td>1253.636035</td>\n",
       "      <td>2.533878</td>\n",
       "      <td>-1.041741</td>\n",
       "      <td>5.856797</td>\n",
       "      <td>97c</td>\n",
       "      <td>2.838710</td>\n",
       "      <td>3</td>\n",
       "    </tr>\n",
       "    <tr>\n",
       "      <th>123</th>\n",
       "      <td>98c</td>\n",
       "      <td>0.125905</td>\n",
       "      <td>0.065673</td>\n",
       "      <td>20.472342</td>\n",
       "      <td>10.925837</td>\n",
       "      <td>12.818887</td>\n",
       "      <td>18.852929</td>\n",
       "      <td>309.135974</td>\n",
       "      <td>39.727833</td>\n",
       "      <td>1193.980486</td>\n",
       "      <td>831.459394</td>\n",
       "      <td>3.552653</td>\n",
       "      <td>-0.213319</td>\n",
       "      <td>-6.558255</td>\n",
       "      <td>98c</td>\n",
       "      <td>3.178571</td>\n",
       "      <td>2</td>\n",
       "    </tr>\n",
       "    <tr>\n",
       "      <th>124</th>\n",
       "      <td>99c</td>\n",
       "      <td>0.123221</td>\n",
       "      <td>0.077602</td>\n",
       "      <td>23.838318</td>\n",
       "      <td>4.248119</td>\n",
       "      <td>9.858138</td>\n",
       "      <td>13.953442</td>\n",
       "      <td>340.834242</td>\n",
       "      <td>54.840155</td>\n",
       "      <td>1248.568618</td>\n",
       "      <td>743.798136</td>\n",
       "      <td>1.890862</td>\n",
       "      <td>3.420829</td>\n",
       "      <td>-2.804352</td>\n",
       "      <td>99c</td>\n",
       "      <td>3.086331</td>\n",
       "      <td>1</td>\n",
       "    </tr>\n",
       "    <tr>\n",
       "      <th>125</th>\n",
       "      <td>9c</td>\n",
       "      <td>0.059437</td>\n",
       "      <td>0.027672</td>\n",
       "      <td>22.442805</td>\n",
       "      <td>4.976827</td>\n",
       "      <td>8.537721</td>\n",
       "      <td>16.125536</td>\n",
       "      <td>330.276139</td>\n",
       "      <td>104.399236</td>\n",
       "      <td>1459.299069</td>\n",
       "      <td>948.061602</td>\n",
       "      <td>3.265306</td>\n",
       "      <td>2.254101</td>\n",
       "      <td>0.622722</td>\n",
       "      <td>9c</td>\n",
       "      <td>2.922481</td>\n",
       "      <td>0</td>\n",
       "    </tr>\n",
       "  </tbody>\n",
       "</table>\n",
       "<p>126 rows × 17 columns</p>\n",
       "</div>"
      ],
      "text/plain": [
       "    Clip_ID  entropy_mean  entropy_sd  roughness_mean   HNR_mean  \\\n",
       "0      100c      0.091947    0.044515       27.218036   0.403868   \n",
       "1      101c      0.091835    0.035573       22.163096   4.907817   \n",
       "2      102c      0.090592    0.039513       23.977232   2.643686   \n",
       "3      103c      0.098487    0.047868       19.593577  12.472141   \n",
       "4      104c      0.109808    0.075450       25.431254   3.216515   \n",
       "..      ...           ...         ...             ...        ...   \n",
       "121     96c      0.041708    0.065907       25.478209   6.027808   \n",
       "122     97c      0.058220    0.040396       27.447279   0.018186   \n",
       "123     98c      0.125905    0.065673       20.472342  10.925837   \n",
       "124     99c      0.123221    0.077602       23.838318   4.248119   \n",
       "125      9c      0.059437    0.027672       22.442805   4.976827   \n",
       "\n",
       "     HNRVoiced_mean        CPP  pitch_mean    pitch_sd    scog_mean  \\\n",
       "0          4.558904  17.826442  157.394941   85.340702   737.018521   \n",
       "1          7.504166  14.351985  278.546142  101.727894   697.685982   \n",
       "2          7.642977  14.815611  334.256952   66.230819  1708.163376   \n",
       "3         12.452400  14.841414  313.055578   57.372617  1084.897386   \n",
       "4          6.497148  14.667693  355.085990   79.981193  1782.185209   \n",
       "..              ...        ...         ...         ...          ...   \n",
       "121        6.060795  18.808713  438.663537   35.353163  2069.201865   \n",
       "122        5.447161  13.725320  424.670455   55.719387  2256.742282   \n",
       "123       12.818887  18.852929  309.135974   39.727833  1193.980486   \n",
       "124        9.858138  13.953442  340.834242   54.840155  1248.568618   \n",
       "125        8.537721  16.125536  330.276139  104.399236  1459.299069   \n",
       "\n",
       "         scog_sd  Duration   Embed 1   Embed 2 Clip_ID    Rating cluster  \n",
       "0     519.431828  1.863673  7.772048  3.851555    100c  1.360000       4  \n",
       "1     583.348913  2.664490  5.393764  0.547831    101c  2.737864       4  \n",
       "2    1593.250985  3.395918 -1.463863  3.297949    102c  3.427083       3  \n",
       "3     708.498029  4.153469  0.581973 -6.835349    103c  3.220930       2  \n",
       "4    1589.910636  2.194286 -2.331583  2.924759    104c  2.247788       3  \n",
       "..           ...       ...       ...       ...     ...       ...     ...  \n",
       "121  1239.575563  3.631020 -3.540001 -1.131849     96c  3.415094       3  \n",
       "122  1253.636035  2.533878 -1.041741  5.856797     97c  2.838710       3  \n",
       "123   831.459394  3.552653 -0.213319 -6.558255     98c  3.178571       2  \n",
       "124   743.798136  1.890862  3.420829 -2.804352     99c  3.086331       1  \n",
       "125   948.061602  3.265306  2.254101  0.622722      9c  2.922481       0  \n",
       "\n",
       "[126 rows x 17 columns]"
      ]
     },
     "execution_count": 161,
     "metadata": {},
     "output_type": "execute_result"
    }
   ],
   "source": [
    "df_tsne"
   ]
  },
  {
   "cell_type": "code",
   "execution_count": 162,
   "metadata": {},
   "outputs": [
    {
     "data": {
      "text/plain": [
       "<AxesSubplot: xlabel='Embed 1', ylabel='Embed 2'>"
      ]
     },
     "execution_count": 162,
     "metadata": {},
     "output_type": "execute_result"
    },
    {
     "data": {
      "image/png": "[encoded data removed]",
      "text/plain": [
       "<Figure size 640x480 with 1 Axes>"
      ]
     },
     "metadata": {},
     "output_type": "display_data"
    }
   ],
   "source": [
    "sns.scatterplot(df_tsne, x = 'Embed 1', y = 'Embed 2', hue = 'cluster')"
   ]
  },
  {
   "cell_type": "code",
   "execution_count": 163,
   "metadata": {},
   "outputs": [
    {
     "data": {
      "application/vnd.plotly.v1+json": {
       "config": {
        "plotlyServerURL": "https://plot.ly"
       },
       "data": [
        {
         "hovertemplate": "cluster=4<br>Embed 1=%{x}<br>Embed 2=%{y}<extra></extra>",
         "legendgroup": "4",
         "marker": {
          "color": "#636efa",
          "symbol": "circle"
         },
         "mode": "markers",
         "name": "4",
         "orientation": "v",
         "showlegend": true,
         "type": "scatter",
         "x": [
          7.772048473358154,
          5.393763542175293,
          7.341289043426514,
          7.005788326263428,
          5.662334442138672,
          5.90008020401001,
          5.169189929962158,
          7.381453037261963,
          7.518238544464111,
          9.451507568359375,
          6.67659854888916,
          4.792008399963379,
          6.817467212677002,
          3.0545053482055664,
          4.671370983123779,
          3.3179492950439453,
          8.643969535827637,
          8.010704040527344,
          6.611339092254639
         ],
         "xaxis": "x",
         "y": [
          3.8515548706054688,
          0.5478307008743286,
          5.082338809967041,
          0.6260808110237122,
          3.6044135093688965,
          3.510935068130493,
          1.9834661483764648,
          4.565003395080566,
          5.035742282867432,
          3.7464213371276855,
          3.5798394680023193,
          5.316608905792236,
          2.974304676055908,
          5.387105941772461,
          2.8015949726104736,
          5.461832046508789,
          1.7878975868225098,
          4.1756911277771,
          2.6742711067199707
         ],
         "yaxis": "y"
        },
        {
         "hovertemplate": "cluster=3<br>Embed 1=%{x}<br>Embed 2=%{y}<extra></extra>",
         "legendgroup": "3",
         "marker": {
          "color": "#EF553B",
          "symbol": "circle"
         },
         "mode": "markers",
         "name": "3",
         "orientation": "v",
         "showlegend": true,
         "type": "scatter",
         "x": [
          -1.4638627767562866,
          -2.331583023071289,
          -0.750863790512085,
          -3.268552541732788,
          -2.4720511436462402,
          -2.6168441772460938,
          -2.4932076930999756,
          -4.107583522796631,
          -4.702340602874756,
          2.823075532913208,
          -1.743965744972229,
          -1.5494071245193481,
          -1.78456711769104,
          0.5799469351768494,
          -0.787961483001709,
          -2.007951498031616,
          -2.4446380138397217,
          0.9904429912567139,
          -0.9341000318527222,
          -4.9076313972473145,
          0.2309042364358902,
          -4.8110785484313965,
          -1.931901216506958,
          -0.5613910555839539,
          0.2904755175113678,
          -5.366702079772949,
          -2.9399755001068115,
          -1.6242284774780273,
          -2.678060293197632,
          -2.809971809387207,
          -3.5400009155273438,
          -1.0417410135269165
         ],
         "xaxis": "x",
         "y": [
          3.2979485988616943,
          2.9247589111328125,
          5.777433395385742,
          3.2291269302368164,
          -0.13872389495372772,
          2.951395034790039,
          3.609072685241699,
          4.148953437805176,
          -3.262378692626953,
          5.735324382781982,
          2.3107080459594727,
          4.618676662445068,
          -1.0057504177093506,
          2.409557580947876,
          2.3518879413604736,
          1.2055679559707642,
          0.7528671622276306,
          4.322296142578125,
          3.701340913772583,
          1.9420454502105713,
          4.686294078826904,
          4.0139241218566895,
          0.16833381354808807,
          3.362401008605957,
          4.9949846267700195,
          0.8321187496185303,
          1.4792635440826416,
          2.3556466102600098,
          4.409267902374268,
          4.832797527313232,
          -1.1318490505218506,
          5.856796741485596
         ],
         "yaxis": "y"
        },
        {
         "hovertemplate": "cluster=2<br>Embed 1=%{x}<br>Embed 2=%{y}<extra></extra>",
         "legendgroup": "2",
         "marker": {
          "color": "#00cc96",
          "symbol": "circle"
         },
         "mode": "markers",
         "name": "2",
         "orientation": "v",
         "showlegend": true,
         "type": "scatter",
         "x": [
          0.581973135471344,
          -0.623977780342102,
          0.46929311752319336,
          0.9277533888816833,
          -1.0493535995483398,
          0.8435884118080139,
          -0.5034496188163757,
          2.3755149841308594,
          0.3099805414676666,
          -2.4369232654571533,
          -1.143900752067566,
          0.19356803596019745,
          -0.16479459404945374,
          -0.21331852674484253
         ],
         "xaxis": "x",
         "y": [
          -6.835349082946777,
          -7.605669975280762,
          -5.617002964019775,
          -7.05642032623291,
          -6.555654525756836,
          -5.686664581298828,
          -4.844752311706543,
          -6.256717205047607,
          -5.090121746063232,
          -5.89722204208374,
          -6.206874847412109,
          -7.561528205871582,
          -7.417305946350098,
          -6.558255195617676
         ],
         "yaxis": "y"
        },
        {
         "hovertemplate": "cluster=0<br>Embed 1=%{x}<br>Embed 2=%{y}<extra></extra>",
         "legendgroup": "0",
         "marker": {
          "color": "#ab63fa",
          "symbol": "circle"
         },
         "mode": "markers",
         "name": "0",
         "orientation": "v",
         "showlegend": true,
         "type": "scatter",
         "x": [
          1.4732935428619385,
          3.261781930923462,
          1.7099552154541016,
          -2.3016443252563477,
          2.2077741622924805,
          -0.4525279402732849,
          3.34619402885437,
          1.7457852363586426,
          1.0047420263290405,
          4.6497721672058105,
          -1.046238660812378,
          2.499983072280884,
          0.8622389435768127,
          4.033431529998779,
          -1.7001487016677856,
          2.515542984008789,
          -1.1833664178848267,
          1.704592227935791,
          6.362581253051758,
          0.12541785836219788,
          3.1657071113586426,
          -0.8221258521080017,
          2.53684663772583,
          -3.9458632469177246,
          5.767651081085205,
          -0.017622213810682297,
          4.794597625732422,
          1.1749413013458252,
          1.6739048957824707,
          0.7434667348861694,
          2.101289749145508,
          0.8552255034446716,
          -1.1648403406143188,
          -2.624802350997925,
          4.508833885192871,
          4.854026794433594,
          -1.4906855821609497,
          -0.6363893747329712,
          1.1153128147125244,
          0.44153910875320435,
          2.254100799560547
         ],
         "xaxis": "x",
         "y": [
          3.504157543182373,
          1.8297234773635864,
          1.1546496152877808,
          -2.1637017726898193,
          1.4492007493972778,
          -0.6925764679908752,
          0.983836829662323,
          0.4142457842826843,
          -3.7118079662323,
          -1.9842134714126587,
          -3.363445520401001,
          -0.1866021603345871,
          -1.2821917533874512,
          0.6738815903663635,
          -3.4876861572265625,
          2.8242568969726562,
          -3.0162274837493896,
          -0.9659734964370728,
          -0.290435791015625,
          0.009366864338517189,
          -0.28886154294013977,
          -1.8237323760986328,
          2.7394087314605713,
          -4.274894714355469,
          -0.5383033156394958,
          -2.29960298538208,
          0.05419130250811577,
          -0.03156162053346634,
          -4.428805351257324,
          5.490001201629639,
          -0.36841294169425964,
          0.3073771297931671,
          -2.3503880500793457,
          -3.732975482940674,
          1.4997138977050781,
          -0.8239389061927795,
          -4.932872772216797,
          -0.005997866857796907,
          1.5973316431045532,
          0.9742594957351685,
          0.622722327709198
         ],
         "yaxis": "y"
        },
        {
         "hovertemplate": "cluster=1<br>Embed 1=%{x}<br>Embed 2=%{y}<extra></extra>",
         "legendgroup": "1",
         "marker": {
          "color": "#FFA15A",
          "symbol": "circle"
         },
         "mode": "markers",
         "name": "1",
         "orientation": "v",
         "showlegend": true,
         "type": "scatter",
         "x": [
          5.077131271362305,
          1.2945066690444946,
          5.0475897789001465,
          3.99101185798645,
          5.2326979637146,
          4.398635387420654,
          4.807753086090088,
          3.566638469696045,
          3.5161328315734863,
          7.195483684539795,
          -4.868041515350342,
          -4.266507148742676,
          3.936028003692627,
          4.88178825378418,
          7.052820682525635,
          1.0832146406173706,
          3.039341688156128,
          3.9801714420318604,
          4.964743137359619,
          3.4208290576934814
         ],
         "xaxis": "x",
         "y": [
          -4.851068496704102,
          -3.759746789932251,
          -2.1993038654327393,
          -4.91120719909668,
          -3.975649356842041,
          -4.105733871459961,
          -2.8628034591674805,
          -5.037633419036865,
          -1.2266217470169067,
          -1.4384814500808716,
          0.19075845181941986,
          0.2704516351222992,
          -6.164400577545166,
          -7.537224292755127,
          -1.6737704277038574,
          -3.0073137283325195,
          -1.6704586744308472,
          -1.7167619466781616,
          -7.61940860748291,
          -2.804352283477783
         ],
         "yaxis": "y"
        }
       ],
       "layout": {
        "legend": {
         "title": {
          "text": "cluster"
         },
         "tracegroupgap": 0
        },
        "margin": {
         "t": 60
        },
        "template": {
         "data": {
          "bar": [
           {
            "error_x": {
             "color": "#2a3f5f"
            },
            "error_y": {
             "color": "#2a3f5f"
            },
            "marker": {
             "line": {
              "color": "#E5ECF6",
              "width": 0.5
             },
             "pattern": {
              "fillmode": "overlay",
              "size": 10,
              "solidity": 0.2
             }
            },
            "type": "bar"
           }
          ],
          "barpolar": [
           {
            "marker": {
             "line": {
              "color": "#E5ECF6",
              "width": 0.5
             },
             "pattern": {
              "fillmode": "overlay",
              "size": 10,
              "solidity": 0.2
             }
            },
            "type": "barpolar"
           }
          ],
          "carpet": [
           {
            "aaxis": {
             "endlinecolor": "#2a3f5f",
             "gridcolor": "white",
             "linecolor": "white",
             "minorgridcolor": "white",
             "startlinecolor": "#2a3f5f"
            },
            "baxis": {
             "endlinecolor": "#2a3f5f",
             "gridcolor": "white",
             "linecolor": "white",
             "minorgridcolor": "white",
             "startlinecolor": "#2a3f5f"
            },
            "type": "carpet"
           }
          ],
          "choropleth": [
           {
            "colorbar": {
             "outlinewidth": 0,
             "ticks": ""
            },
            "type": "choropleth"
           }
          ],
          "contour": [
           {
            "colorbar": {
             "outlinewidth": 0,
             "ticks": ""
            },
            "colorscale": [
             [
              0,
              "#0d0887"
             ],
             [
              0.1111111111111111,
              "#46039f"
             ],
             [
              0.2222222222222222,
              "#7201a8"
             ],
             [
              0.3333333333333333,
              "#9c179e"
             ],
             [
              0.4444444444444444,
              "#bd3786"
             ],
             [
              0.5555555555555556,
              "#d8576b"
             ],
             [
              0.6666666666666666,
              "#ed7953"
             ],
             [
              0.7777777777777778,
              "#fb9f3a"
             ],
             [
              0.8888888888888888,
              "#fdca26"
             ],
             [
              1,
              "#f0f921"
             ]
            ],
            "type": "contour"
           }
          ],
          "contourcarpet": [
           {
            "colorbar": {
             "outlinewidth": 0,
             "ticks": ""
            },
            "type": "contourcarpet"
           }
          ],
          "heatmap": [
           {
            "colorbar": {
             "outlinewidth": 0,
             "ticks": ""
            },
            "colorscale": [
             [
              0,
              "#0d0887"
             ],
             [
              0.1111111111111111,
              "#46039f"
             ],
             [
              0.2222222222222222,
              "#7201a8"
             ],
             [
              0.3333333333333333,
              "#9c179e"
             ],
             [
              0.4444444444444444,
              "#bd3786"
             ],
             [
              0.5555555555555556,
              "#d8576b"
             ],
             [
              0.6666666666666666,
              "#ed7953"
             ],
             [
              0.7777777777777778,
              "#fb9f3a"
             ],
             [
              0.8888888888888888,
              "#fdca26"
             ],
             [
              1,
              "#f0f921"
             ]
            ],
            "type": "heatmap"
           }
          ],
          "heatmapgl": [
           {
            "colorbar": {
             "outlinewidth": 0,
             "ticks": ""
            },
            "colorscale": [
             [
              0,
              "#0d0887"
             ],
             [
              0.1111111111111111,
              "#46039f"
             ],
             [
              0.2222222222222222,
              "#7201a8"
             ],
             [
              0.3333333333333333,
              "#9c179e"
             ],
             [
              0.4444444444444444,
              "#bd3786"
             ],
             [
              0.5555555555555556,
              "#d8576b"
             ],
             [
              0.6666666666666666,
              "#ed7953"
             ],
             [
              0.7777777777777778,
              "#fb9f3a"
             ],
             [
              0.8888888888888888,
              "#fdca26"
             ],
             [
              1,
              "#f0f921"
             ]
            ],
            "type": "heatmapgl"
           }
          ],
          "histogram": [
           {
            "marker": {
             "pattern": {
              "fillmode": "overlay",
              "size": 10,
              "solidity": 0.2
             }
            },
            "type": "histogram"
           }
          ],
          "histogram2d": [
           {
            "colorbar": {
             "outlinewidth": 0,
             "ticks": ""
            },
            "colorscale": [
             [
              0,
              "#0d0887"
             ],
             [
              0.1111111111111111,
              "#46039f"
             ],
             [
              0.2222222222222222,
              "#7201a8"
             ],
             [
              0.3333333333333333,
              "#9c179e"
             ],
             [
              0.4444444444444444,
              "#bd3786"
             ],
             [
              0.5555555555555556,
              "#d8576b"
             ],
             [
              0.6666666666666666,
              "#ed7953"
             ],
             [
              0.7777777777777778,
              "#fb9f3a"
             ],
             [
              0.8888888888888888,
              "#fdca26"
             ],
             [
              1,
              "#f0f921"
             ]
            ],
            "type": "histogram2d"
           }
          ],
          "histogram2dcontour": [
           {
            "colorbar": {
             "outlinewidth": 0,
             "ticks": ""
            },
            "colorscale": [
             [
              0,
              "#0d0887"
             ],
             [
              0.1111111111111111,
              "#46039f"
             ],
             [
              0.2222222222222222,
              "#7201a8"
             ],
             [
              0.3333333333333333,
              "#9c179e"
             ],
             [
              0.4444444444444444,
              "#bd3786"
             ],
             [
              0.5555555555555556,
              "#d8576b"
             ],
             [
              0.6666666666666666,
              "#ed7953"
             ],
             [
              0.7777777777777778,
              "#fb9f3a"
             ],
             [
              0.8888888888888888,
              "#fdca26"
             ],
             [
              1,
              "#f0f921"
             ]
            ],
            "type": "histogram2dcontour"
           }
          ],
          "mesh3d": [
           {
            "colorbar": {
             "outlinewidth": 0,
             "ticks": ""
            },
            "type": "mesh3d"
           }
          ],
          "parcoords": [
           {
            "line": {
             "colorbar": {
              "outlinewidth": 0,
              "ticks": ""
             }
            },
            "type": "parcoords"
           }
          ],
          "pie": [
           {
            "automargin": true,
            "type": "pie"
           }
          ],
          "scatter": [
           {
            "fillpattern": {
             "fillmode": "overlay",
             "size": 10,
             "solidity": 0.2
            },
            "type": "scatter"
           }
          ],
          "scatter3d": [
           {
            "line": {
             "colorbar": {
              "outlinewidth": 0,
              "ticks": ""
             }
            },
            "marker": {
             "colorbar": {
              "outlinewidth": 0,
              "ticks": ""
             }
            },
            "type": "scatter3d"
           }
          ],
          "scattercarpet": [
           {
            "marker": {
             "colorbar": {
              "outlinewidth": 0,
              "ticks": ""
             }
            },
            "type": "scattercarpet"
           }
          ],
          "scattergeo": [
           {
            "marker": {
             "colorbar": {
              "outlinewidth": 0,
              "ticks": ""
             }
            },
            "type": "scattergeo"
           }
          ],
          "scattergl": [
           {
            "marker": {
             "colorbar": {
              "outlinewidth": 0,
              "ticks": ""
             }
            },
            "type": "scattergl"
           }
          ],
          "scattermapbox": [
           {
            "marker": {
             "colorbar": {
              "outlinewidth": 0,
              "ticks": ""
             }
            },
            "type": "scattermapbox"
           }
          ],
          "scatterpolar": [
           {
            "marker": {
             "colorbar": {
              "outlinewidth": 0,
              "ticks": ""
             }
            },
            "type": "scatterpolar"
           }
          ],
          "scatterpolargl": [
           {
            "marker": {
             "colorbar": {
              "outlinewidth": 0,
              "ticks": ""
             }
            },
            "type": "scatterpolargl"
           }
          ],
          "scatterternary": [
           {
            "marker": {
             "colorbar": {
              "outlinewidth": 0,
              "ticks": ""
             }
            },
            "type": "scatterternary"
           }
          ],
          "surface": [
           {
            "colorbar": {
             "outlinewidth": 0,
             "ticks": ""
            },
            "colorscale": [
             [
              0,
              "#0d0887"
             ],
             [
              0.1111111111111111,
              "#46039f"
             ],
             [
              0.2222222222222222,
              "#7201a8"
             ],
             [
              0.3333333333333333,
              "#9c179e"
             ],
             [
              0.4444444444444444,
              "#bd3786"
             ],
             [
              0.5555555555555556,
              "#d8576b"
             ],
             [
              0.6666666666666666,
              "#ed7953"
             ],
             [
              0.7777777777777778,
              "#fb9f3a"
             ],
             [
              0.8888888888888888,
              "#fdca26"
             ],
             [
              1,
              "#f0f921"
             ]
            ],
            "type": "surface"
           }
          ],
          "table": [
           {
            "cells": {
             "fill": {
              "color": "#EBF0F8"
             },
             "line": {
              "color": "white"
             }
            },
            "header": {
             "fill": {
              "color": "#C8D4E3"
             },
             "line": {
              "color": "white"
             }
            },
            "type": "table"
           }
          ]
         },
         "layout": {
          "annotationdefaults": {
           "arrowcolor": "#2a3f5f",
           "arrowhead": 0,
           "arrowwidth": 1
          },
          "autotypenumbers": "strict",
          "coloraxis": {
           "colorbar": {
            "outlinewidth": 0,
            "ticks": ""
           }
          },
          "colorscale": {
           "diverging": [
            [
             0,
             "#8e0152"
            ],
            [
             0.1,
             "#c51b7d"
            ],
            [
             0.2,
             "#de77ae"
            ],
            [
             0.3,
             "#f1b6da"
            ],
            [
             0.4,
             "#fde0ef"
            ],
            [
             0.5,
             "#f7f7f7"
            ],
            [
             0.6,
             "#e6f5d0"
            ],
            [
             0.7,
             "#b8e186"
            ],
            [
             0.8,
             "#7fbc41"
            ],
            [
             0.9,
             "#4d9221"
            ],
            [
             1,
             "#276419"
            ]
           ],
           "sequential": [
            [
             0,
             "#0d0887"
            ],
            [
             0.1111111111111111,
             "#46039f"
            ],
            [
             0.2222222222222222,
             "#7201a8"
            ],
            [
             0.3333333333333333,
             "#9c179e"
            ],
            [
             0.4444444444444444,
             "#bd3786"
            ],
            [
             0.5555555555555556,
             "#d8576b"
            ],
            [
             0.6666666666666666,
             "#ed7953"
            ],
            [
             0.7777777777777778,
             "#fb9f3a"
            ],
            [
             0.8888888888888888,
             "#fdca26"
            ],
            [
             1,
             "#f0f921"
            ]
           ],
           "sequentialminus": [
            [
             0,
             "#0d0887"
            ],
            [
             0.1111111111111111,
             "#46039f"
            ],
            [
             0.2222222222222222,
             "#7201a8"
            ],
            [
             0.3333333333333333,
             "#9c179e"
            ],
            [
             0.4444444444444444,
             "#bd3786"
            ],
            [
             0.5555555555555556,
             "#d8576b"
            ],
            [
             0.6666666666666666,
             "#ed7953"
            ],
            [
             0.7777777777777778,
             "#fb9f3a"
            ],
            [
             0.8888888888888888,
             "#fdca26"
            ],
            [
             1,
             "#f0f921"
            ]
           ]
          },
          "colorway": [
           "#636efa",
           "#EF553B",
           "#00cc96",
           "#ab63fa",
           "#FFA15A",
           "#19d3f3",
           "#FF6692",
           "#B6E880",
           "#FF97FF",
           "#FECB52"
          ],
          "font": {
           "color": "#2a3f5f"
          },
          "geo": {
           "bgcolor": "white",
           "lakecolor": "white",
           "landcolor": "#E5ECF6",
           "showlakes": true,
           "showland": true,
           "subunitcolor": "white"
          },
          "hoverlabel": {
           "align": "left"
          },
          "hovermode": "closest",
          "mapbox": {
           "style": "light"
          },
          "paper_bgcolor": "white",
          "plot_bgcolor": "#E5ECF6",
          "polar": {
           "angularaxis": {
            "gridcolor": "white",
            "linecolor": "white",
            "ticks": ""
           },
           "bgcolor": "#E5ECF6",
           "radialaxis": {
            "gridcolor": "white",
            "linecolor": "white",
            "ticks": ""
           }
          },
          "scene": {
           "xaxis": {
            "backgroundcolor": "#E5ECF6",
            "gridcolor": "white",
            "gridwidth": 2,
            "linecolor": "white",
            "showbackground": true,
            "ticks": "",
            "zerolinecolor": "white"
           },
           "yaxis": {
            "backgroundcolor": "#E5ECF6",
            "gridcolor": "white",
            "gridwidth": 2,
            "linecolor": "white",
            "showbackground": true,
            "ticks": "",
            "zerolinecolor": "white"
           },
           "zaxis": {
            "backgroundcolor": "#E5ECF6",
            "gridcolor": "white",
            "gridwidth": 2,
            "linecolor": "white",
            "showbackground": true,
            "ticks": "",
            "zerolinecolor": "white"
           }
          },
          "shapedefaults": {
           "line": {
            "color": "#2a3f5f"
           }
          },
          "ternary": {
           "aaxis": {
            "gridcolor": "white",
            "linecolor": "white",
            "ticks": ""
           },
           "baxis": {
            "gridcolor": "white",
            "linecolor": "white",
            "ticks": ""
           },
           "bgcolor": "#E5ECF6",
           "caxis": {
            "gridcolor": "white",
            "linecolor": "white",
            "ticks": ""
           }
          },
          "title": {
           "x": 0.05
          },
          "xaxis": {
           "automargin": true,
           "gridcolor": "white",
           "linecolor": "white",
           "ticks": "",
           "title": {
            "standoff": 15
           },
           "zerolinecolor": "white",
           "zerolinewidth": 2
          },
          "yaxis": {
           "automargin": true,
           "gridcolor": "white",
           "linecolor": "white",
           "ticks": "",
           "title": {
            "standoff": 15
           },
           "zerolinecolor": "white",
           "zerolinewidth": 2
          }
         }
        },
        "xaxis": {
         "anchor": "y",
         "domain": [
          0,
          1
         ],
         "title": {
          "text": "Embed 1"
         }
        },
        "yaxis": {
         "anchor": "x",
         "domain": [
          0,
          1
         ],
         "title": {
          "text": "Embed 2"
         }
        }
       }
      }
     },
     "metadata": {},
     "output_type": "display_data"
    }
   ],
   "source": [
    "px.scatter(data_frame = df_tsne, x = 'Embed 1', y = 'Embed 2', color = 'cluster')"
   ]
  },
  {
   "cell_type": "code",
   "execution_count": 164,
   "metadata": {},
   "outputs": [],
   "source": [
    "tsne_df = pd.concat([df_tsne.iloc[:,:14], df_tsne.loc[:, ['Rating', 'cluster']]], axis = 1)"
   ]
  },
  {
   "cell_type": "code",
   "execution_count": 165,
   "metadata": {},
   "outputs": [],
   "source": [
    "tsne_df['cluster'] = tsne_df['cluster'].replace([0, 1, 2, 3, 4], ['Cluster 1', 'Cluster 2', 'Cluster 3', 'Cluster 4', 'Cluster 5'])"
   ]
  },
  {
   "cell_type": "code",
   "execution_count": 166,
   "metadata": {},
   "outputs": [],
   "source": [
    "tsne_df['Clip_ID'] =tsne_df['Clip_ID'].apply(lambda x: str(x) + '.wav')"
   ]
  },
  {
   "cell_type": "code",
   "execution_count": 167,
   "metadata": {},
   "outputs": [
    {
     "data": {
      "text/plain": [
       "Index(['Clip_ID', 'entropy_mean', 'entropy_sd', 'roughness_mean', 'HNR_mean',\n",
       "       'HNRVoiced_mean', 'CPP', 'pitch_mean', 'pitch_sd', 'scog_mean',\n",
       "       'scog_sd', 'Duration', 'Embed 1', 'Embed 2', 'Rating', 'cluster'],\n",
       "      dtype='object')"
      ]
     },
     "execution_count": 167,
     "metadata": {},
     "output_type": "execute_result"
    }
   ],
   "source": [
    "tsne_df.columns"
   ]
  },
  {
   "cell_type": "code",
   "execution_count": 168,
   "metadata": {},
   "outputs": [
    {
     "data": {
      "text/html": [
       "<div>\n",
       "<style scoped>\n",
       "    .dataframe tbody tr th:only-of-type {\n",
       "        vertical-align: middle;\n",
       "    }\n",
       "\n",
       "    .dataframe tbody tr th {\n",
       "        vertical-align: top;\n",
       "    }\n",
       "\n",
       "    .dataframe thead tr th {\n",
       "        text-align: left;\n",
       "    }\n",
       "\n",
       "    .dataframe thead tr:last-of-type th {\n",
       "        text-align: right;\n",
       "    }\n",
       "</style>\n",
       "<table border=\"1\" class=\"dataframe\">\n",
       "  <thead>\n",
       "    <tr>\n",
       "      <th></th>\n",
       "      <th colspan=\"4\" halign=\"left\">Rating</th>\n",
       "      <th colspan=\"4\" halign=\"left\">entropy_mean</th>\n",
       "      <th colspan=\"4\" halign=\"left\">entropy_sd</th>\n",
       "      <th colspan=\"4\" halign=\"left\">roughness_mean</th>\n",
       "    </tr>\n",
       "    <tr>\n",
       "      <th></th>\n",
       "      <th>mean</th>\n",
       "      <th>std</th>\n",
       "      <th>min</th>\n",
       "      <th>max</th>\n",
       "      <th>mean</th>\n",
       "      <th>std</th>\n",
       "      <th>min</th>\n",
       "      <th>max</th>\n",
       "      <th>mean</th>\n",
       "      <th>std</th>\n",
       "      <th>min</th>\n",
       "      <th>max</th>\n",
       "      <th>mean</th>\n",
       "      <th>std</th>\n",
       "      <th>min</th>\n",
       "      <th>max</th>\n",
       "    </tr>\n",
       "    <tr>\n",
       "      <th>cluster</th>\n",
       "      <th></th>\n",
       "      <th></th>\n",
       "      <th></th>\n",
       "      <th></th>\n",
       "      <th></th>\n",
       "      <th></th>\n",
       "      <th></th>\n",
       "      <th></th>\n",
       "      <th></th>\n",
       "      <th></th>\n",
       "      <th></th>\n",
       "      <th></th>\n",
       "      <th></th>\n",
       "      <th></th>\n",
       "      <th></th>\n",
       "      <th></th>\n",
       "    </tr>\n",
       "  </thead>\n",
       "  <tbody>\n",
       "    <tr>\n",
       "      <th>Cluster 1</th>\n",
       "      <td>3.044109</td>\n",
       "      <td>0.529532</td>\n",
       "      <td>2.079320</td>\n",
       "      <td>3.978571</td>\n",
       "      <td>0.071825</td>\n",
       "      <td>0.022411</td>\n",
       "      <td>0.031841</td>\n",
       "      <td>0.141804</td>\n",
       "      <td>0.044403</td>\n",
       "      <td>0.014413</td>\n",
       "      <td>0.022937</td>\n",
       "      <td>0.082477</td>\n",
       "      <td>22.396192</td>\n",
       "      <td>1.390831</td>\n",
       "      <td>19.470253</td>\n",
       "      <td>25.928850</td>\n",
       "    </tr>\n",
       "    <tr>\n",
       "      <th>Cluster 2</th>\n",
       "      <td>2.838375</td>\n",
       "      <td>0.607755</td>\n",
       "      <td>1.779661</td>\n",
       "      <td>3.957447</td>\n",
       "      <td>0.117655</td>\n",
       "      <td>0.034664</td>\n",
       "      <td>0.063573</td>\n",
       "      <td>0.212021</td>\n",
       "      <td>0.095220</td>\n",
       "      <td>0.042804</td>\n",
       "      <td>0.048391</td>\n",
       "      <td>0.209268</td>\n",
       "      <td>21.649625</td>\n",
       "      <td>1.838490</td>\n",
       "      <td>19.035208</td>\n",
       "      <td>25.125978</td>\n",
       "    </tr>\n",
       "    <tr>\n",
       "      <th>Cluster 3</th>\n",
       "      <td>3.118346</td>\n",
       "      <td>0.356500</td>\n",
       "      <td>2.418605</td>\n",
       "      <td>3.587629</td>\n",
       "      <td>0.095024</td>\n",
       "      <td>0.021925</td>\n",
       "      <td>0.042793</td>\n",
       "      <td>0.125905</td>\n",
       "      <td>0.059333</td>\n",
       "      <td>0.020526</td>\n",
       "      <td>0.032764</td>\n",
       "      <td>0.119594</td>\n",
       "      <td>20.611584</td>\n",
       "      <td>1.240237</td>\n",
       "      <td>18.669599</td>\n",
       "      <td>23.400187</td>\n",
       "    </tr>\n",
       "    <tr>\n",
       "      <th>Cluster 4</th>\n",
       "      <td>2.978736</td>\n",
       "      <td>0.498962</td>\n",
       "      <td>1.927419</td>\n",
       "      <td>4.053571</td>\n",
       "      <td>0.091107</td>\n",
       "      <td>0.026652</td>\n",
       "      <td>0.041708</td>\n",
       "      <td>0.161950</td>\n",
       "      <td>0.057781</td>\n",
       "      <td>0.026538</td>\n",
       "      <td>0.028104</td>\n",
       "      <td>0.131561</td>\n",
       "      <td>24.716046</td>\n",
       "      <td>1.553754</td>\n",
       "      <td>22.112374</td>\n",
       "      <td>29.837283</td>\n",
       "    </tr>\n",
       "    <tr>\n",
       "      <th>Cluster 5</th>\n",
       "      <td>2.224090</td>\n",
       "      <td>0.598991</td>\n",
       "      <td>1.178571</td>\n",
       "      <td>3.160714</td>\n",
       "      <td>0.081960</td>\n",
       "      <td>0.030045</td>\n",
       "      <td>0.030650</td>\n",
       "      <td>0.145845</td>\n",
       "      <td>0.053609</td>\n",
       "      <td>0.018708</td>\n",
       "      <td>0.022460</td>\n",
       "      <td>0.089394</td>\n",
       "      <td>24.889750</td>\n",
       "      <td>1.685168</td>\n",
       "      <td>22.163096</td>\n",
       "      <td>27.828656</td>\n",
       "    </tr>\n",
       "  </tbody>\n",
       "</table>\n",
       "</div>"
      ],
      "text/plain": [
       "             Rating                               entropy_mean            \\\n",
       "               mean       std       min       max         mean       std   \n",
       "cluster                                                                    \n",
       "Cluster 1  3.044109  0.529532  2.079320  3.978571     0.071825  0.022411   \n",
       "Cluster 2  2.838375  0.607755  1.779661  3.957447     0.117655  0.034664   \n",
       "Cluster 3  3.118346  0.356500  2.418605  3.587629     0.095024  0.021925   \n",
       "Cluster 4  2.978736  0.498962  1.927419  4.053571     0.091107  0.026652   \n",
       "Cluster 5  2.224090  0.598991  1.178571  3.160714     0.081960  0.030045   \n",
       "\n",
       "                              entropy_sd                                \\\n",
       "                min       max       mean       std       min       max   \n",
       "cluster                                                                  \n",
       "Cluster 1  0.031841  0.141804   0.044403  0.014413  0.022937  0.082477   \n",
       "Cluster 2  0.063573  0.212021   0.095220  0.042804  0.048391  0.209268   \n",
       "Cluster 3  0.042793  0.125905   0.059333  0.020526  0.032764  0.119594   \n",
       "Cluster 4  0.041708  0.161950   0.057781  0.026538  0.028104  0.131561   \n",
       "Cluster 5  0.030650  0.145845   0.053609  0.018708  0.022460  0.089394   \n",
       "\n",
       "          roughness_mean                                  \n",
       "                    mean       std        min        max  \n",
       "cluster                                                   \n",
       "Cluster 1      22.396192  1.390831  19.470253  25.928850  \n",
       "Cluster 2      21.649625  1.838490  19.035208  25.125978  \n",
       "Cluster 3      20.611584  1.240237  18.669599  23.400187  \n",
       "Cluster 4      24.716046  1.553754  22.112374  29.837283  \n",
       "Cluster 5      24.889750  1.685168  22.163096  27.828656  "
      ]
     },
     "execution_count": 168,
     "metadata": {},
     "output_type": "execute_result"
    }
   ],
   "source": [
    "tsne_df.groupby('cluster').agg({\n",
    "    'Rating':['mean', 'std', 'min', 'max'],\n",
    "    'entropy_mean':['mean', 'std', 'min', 'max'],\n",
    "    'entropy_sd':['mean', 'std', 'min', 'max'],\n",
    "    'roughness_mean':['mean', 'std', 'min', 'max']\n",
    "})"
   ]
  },
  {
   "cell_type": "code",
   "execution_count": 169,
   "metadata": {},
   "outputs": [
    {
     "data": {
      "text/html": [
       "<div>\n",
       "<style scoped>\n",
       "    .dataframe tbody tr th:only-of-type {\n",
       "        vertical-align: middle;\n",
       "    }\n",
       "\n",
       "    .dataframe tbody tr th {\n",
       "        vertical-align: top;\n",
       "    }\n",
       "\n",
       "    .dataframe thead th {\n",
       "        text-align: right;\n",
       "    }\n",
       "</style>\n",
       "<table border=\"1\" class=\"dataframe\">\n",
       "  <thead>\n",
       "    <tr style=\"text-align: right;\">\n",
       "      <th></th>\n",
       "      <th>Clip_ID</th>\n",
       "      <th>entropy_mean</th>\n",
       "      <th>entropy_sd</th>\n",
       "      <th>roughness_mean</th>\n",
       "      <th>HNR_mean</th>\n",
       "      <th>HNRVoiced_mean</th>\n",
       "      <th>CPP</th>\n",
       "      <th>pitch_mean</th>\n",
       "      <th>pitch_sd</th>\n",
       "      <th>scog_mean</th>\n",
       "      <th>scog_sd</th>\n",
       "      <th>Duration</th>\n",
       "      <th>Embed 1</th>\n",
       "      <th>Embed 2</th>\n",
       "      <th>Rating</th>\n",
       "      <th>cluster</th>\n",
       "    </tr>\n",
       "  </thead>\n",
       "  <tbody>\n",
       "    <tr>\n",
       "      <th>0</th>\n",
       "      <td>100c.wav</td>\n",
       "      <td>0.091947</td>\n",
       "      <td>0.044515</td>\n",
       "      <td>27.218036</td>\n",
       "      <td>0.403868</td>\n",
       "      <td>4.558904</td>\n",
       "      <td>17.826442</td>\n",
       "      <td>157.394941</td>\n",
       "      <td>85.340702</td>\n",
       "      <td>737.018521</td>\n",
       "      <td>519.431828</td>\n",
       "      <td>1.863673</td>\n",
       "      <td>7.772048</td>\n",
       "      <td>3.851555</td>\n",
       "      <td>1.360000</td>\n",
       "      <td>Cluster 5</td>\n",
       "    </tr>\n",
       "    <tr>\n",
       "      <th>1</th>\n",
       "      <td>101c.wav</td>\n",
       "      <td>0.091835</td>\n",
       "      <td>0.035573</td>\n",
       "      <td>22.163096</td>\n",
       "      <td>4.907817</td>\n",
       "      <td>7.504166</td>\n",
       "      <td>14.351985</td>\n",
       "      <td>278.546142</td>\n",
       "      <td>101.727894</td>\n",
       "      <td>697.685982</td>\n",
       "      <td>583.348913</td>\n",
       "      <td>2.664490</td>\n",
       "      <td>5.393764</td>\n",
       "      <td>0.547831</td>\n",
       "      <td>2.737864</td>\n",
       "      <td>Cluster 5</td>\n",
       "    </tr>\n",
       "    <tr>\n",
       "      <th>2</th>\n",
       "      <td>102c.wav</td>\n",
       "      <td>0.090592</td>\n",
       "      <td>0.039513</td>\n",
       "      <td>23.977232</td>\n",
       "      <td>2.643686</td>\n",
       "      <td>7.642977</td>\n",
       "      <td>14.815611</td>\n",
       "      <td>334.256952</td>\n",
       "      <td>66.230819</td>\n",
       "      <td>1708.163376</td>\n",
       "      <td>1593.250985</td>\n",
       "      <td>3.395918</td>\n",
       "      <td>-1.463863</td>\n",
       "      <td>3.297949</td>\n",
       "      <td>3.427083</td>\n",
       "      <td>Cluster 4</td>\n",
       "    </tr>\n",
       "    <tr>\n",
       "      <th>3</th>\n",
       "      <td>103c.wav</td>\n",
       "      <td>0.098487</td>\n",
       "      <td>0.047868</td>\n",
       "      <td>19.593577</td>\n",
       "      <td>12.472141</td>\n",
       "      <td>12.452400</td>\n",
       "      <td>14.841414</td>\n",
       "      <td>313.055578</td>\n",
       "      <td>57.372617</td>\n",
       "      <td>1084.897386</td>\n",
       "      <td>708.498029</td>\n",
       "      <td>4.153469</td>\n",
       "      <td>0.581973</td>\n",
       "      <td>-6.835349</td>\n",
       "      <td>3.220930</td>\n",
       "      <td>Cluster 3</td>\n",
       "    </tr>\n",
       "    <tr>\n",
       "      <th>4</th>\n",
       "      <td>104c.wav</td>\n",
       "      <td>0.109808</td>\n",
       "      <td>0.075450</td>\n",
       "      <td>25.431254</td>\n",
       "      <td>3.216515</td>\n",
       "      <td>6.497148</td>\n",
       "      <td>14.667693</td>\n",
       "      <td>355.085990</td>\n",
       "      <td>79.981193</td>\n",
       "      <td>1782.185209</td>\n",
       "      <td>1589.910636</td>\n",
       "      <td>2.194286</td>\n",
       "      <td>-2.331583</td>\n",
       "      <td>2.924759</td>\n",
       "      <td>2.247788</td>\n",
       "      <td>Cluster 4</td>\n",
       "    </tr>\n",
       "    <tr>\n",
       "      <th>...</th>\n",
       "      <td>...</td>\n",
       "      <td>...</td>\n",
       "      <td>...</td>\n",
       "      <td>...</td>\n",
       "      <td>...</td>\n",
       "      <td>...</td>\n",
       "      <td>...</td>\n",
       "      <td>...</td>\n",
       "      <td>...</td>\n",
       "      <td>...</td>\n",
       "      <td>...</td>\n",
       "      <td>...</td>\n",
       "      <td>...</td>\n",
       "      <td>...</td>\n",
       "      <td>...</td>\n",
       "      <td>...</td>\n",
       "    </tr>\n",
       "    <tr>\n",
       "      <th>121</th>\n",
       "      <td>96c.wav</td>\n",
       "      <td>0.041708</td>\n",
       "      <td>0.065907</td>\n",
       "      <td>25.478209</td>\n",
       "      <td>6.027808</td>\n",
       "      <td>6.060795</td>\n",
       "      <td>18.808713</td>\n",
       "      <td>438.663537</td>\n",
       "      <td>35.353163</td>\n",
       "      <td>2069.201865</td>\n",
       "      <td>1239.575563</td>\n",
       "      <td>3.631020</td>\n",
       "      <td>-3.540001</td>\n",
       "      <td>-1.131849</td>\n",
       "      <td>3.415094</td>\n",
       "      <td>Cluster 4</td>\n",
       "    </tr>\n",
       "    <tr>\n",
       "      <th>122</th>\n",
       "      <td>97c.wav</td>\n",
       "      <td>0.058220</td>\n",
       "      <td>0.040396</td>\n",
       "      <td>27.447279</td>\n",
       "      <td>0.018186</td>\n",
       "      <td>5.447161</td>\n",
       "      <td>13.725320</td>\n",
       "      <td>424.670455</td>\n",
       "      <td>55.719387</td>\n",
       "      <td>2256.742282</td>\n",
       "      <td>1253.636035</td>\n",
       "      <td>2.533878</td>\n",
       "      <td>-1.041741</td>\n",
       "      <td>5.856797</td>\n",
       "      <td>2.838710</td>\n",
       "      <td>Cluster 4</td>\n",
       "    </tr>\n",
       "    <tr>\n",
       "      <th>123</th>\n",
       "      <td>98c.wav</td>\n",
       "      <td>0.125905</td>\n",
       "      <td>0.065673</td>\n",
       "      <td>20.472342</td>\n",
       "      <td>10.925837</td>\n",
       "      <td>12.818887</td>\n",
       "      <td>18.852929</td>\n",
       "      <td>309.135974</td>\n",
       "      <td>39.727833</td>\n",
       "      <td>1193.980486</td>\n",
       "      <td>831.459394</td>\n",
       "      <td>3.552653</td>\n",
       "      <td>-0.213319</td>\n",
       "      <td>-6.558255</td>\n",
       "      <td>3.178571</td>\n",
       "      <td>Cluster 3</td>\n",
       "    </tr>\n",
       "    <tr>\n",
       "      <th>124</th>\n",
       "      <td>99c.wav</td>\n",
       "      <td>0.123221</td>\n",
       "      <td>0.077602</td>\n",
       "      <td>23.838318</td>\n",
       "      <td>4.248119</td>\n",
       "      <td>9.858138</td>\n",
       "      <td>13.953442</td>\n",
       "      <td>340.834242</td>\n",
       "      <td>54.840155</td>\n",
       "      <td>1248.568618</td>\n",
       "      <td>743.798136</td>\n",
       "      <td>1.890862</td>\n",
       "      <td>3.420829</td>\n",
       "      <td>-2.804352</td>\n",
       "      <td>3.086331</td>\n",
       "      <td>Cluster 2</td>\n",
       "    </tr>\n",
       "    <tr>\n",
       "      <th>125</th>\n",
       "      <td>9c.wav</td>\n",
       "      <td>0.059437</td>\n",
       "      <td>0.027672</td>\n",
       "      <td>22.442805</td>\n",
       "      <td>4.976827</td>\n",
       "      <td>8.537721</td>\n",
       "      <td>16.125536</td>\n",
       "      <td>330.276139</td>\n",
       "      <td>104.399236</td>\n",
       "      <td>1459.299069</td>\n",
       "      <td>948.061602</td>\n",
       "      <td>3.265306</td>\n",
       "      <td>2.254101</td>\n",
       "      <td>0.622722</td>\n",
       "      <td>2.922481</td>\n",
       "      <td>Cluster 1</td>\n",
       "    </tr>\n",
       "  </tbody>\n",
       "</table>\n",
       "<p>126 rows × 16 columns</p>\n",
       "</div>"
      ],
      "text/plain": [
       "      Clip_ID  entropy_mean  entropy_sd  roughness_mean   HNR_mean  \\\n",
       "0    100c.wav      0.091947    0.044515       27.218036   0.403868   \n",
       "1    101c.wav      0.091835    0.035573       22.163096   4.907817   \n",
       "2    102c.wav      0.090592    0.039513       23.977232   2.643686   \n",
       "3    103c.wav      0.098487    0.047868       19.593577  12.472141   \n",
       "4    104c.wav      0.109808    0.075450       25.431254   3.216515   \n",
       "..        ...           ...         ...             ...        ...   \n",
       "121   96c.wav      0.041708    0.065907       25.478209   6.027808   \n",
       "122   97c.wav      0.058220    0.040396       27.447279   0.018186   \n",
       "123   98c.wav      0.125905    0.065673       20.472342  10.925837   \n",
       "124   99c.wav      0.123221    0.077602       23.838318   4.248119   \n",
       "125    9c.wav      0.059437    0.027672       22.442805   4.976827   \n",
       "\n",
       "     HNRVoiced_mean        CPP  pitch_mean    pitch_sd    scog_mean  \\\n",
       "0          4.558904  17.826442  157.394941   85.340702   737.018521   \n",
       "1          7.504166  14.351985  278.546142  101.727894   697.685982   \n",
       "2          7.642977  14.815611  334.256952   66.230819  1708.163376   \n",
       "3         12.452400  14.841414  313.055578   57.372617  1084.897386   \n",
       "4          6.497148  14.667693  355.085990   79.981193  1782.185209   \n",
       "..              ...        ...         ...         ...          ...   \n",
       "121        6.060795  18.808713  438.663537   35.353163  2069.201865   \n",
       "122        5.447161  13.725320  424.670455   55.719387  2256.742282   \n",
       "123       12.818887  18.852929  309.135974   39.727833  1193.980486   \n",
       "124        9.858138  13.953442  340.834242   54.840155  1248.568618   \n",
       "125        8.537721  16.125536  330.276139  104.399236  1459.299069   \n",
       "\n",
       "         scog_sd  Duration   Embed 1   Embed 2    Rating    cluster  \n",
       "0     519.431828  1.863673  7.772048  3.851555  1.360000  Cluster 5  \n",
       "1     583.348913  2.664490  5.393764  0.547831  2.737864  Cluster 5  \n",
       "2    1593.250985  3.395918 -1.463863  3.297949  3.427083  Cluster 4  \n",
       "3     708.498029  4.153469  0.581973 -6.835349  3.220930  Cluster 3  \n",
       "4    1589.910636  2.194286 -2.331583  2.924759  2.247788  Cluster 4  \n",
       "..           ...       ...       ...       ...       ...        ...  \n",
       "121  1239.575563  3.631020 -3.540001 -1.131849  3.415094  Cluster 4  \n",
       "122  1253.636035  2.533878 -1.041741  5.856797  2.838710  Cluster 4  \n",
       "123   831.459394  3.552653 -0.213319 -6.558255  3.178571  Cluster 3  \n",
       "124   743.798136  1.890862  3.420829 -2.804352  3.086331  Cluster 2  \n",
       "125   948.061602  3.265306  2.254101  0.622722  2.922481  Cluster 1  \n",
       "\n",
       "[126 rows x 16 columns]"
      ]
     },
     "execution_count": 169,
     "metadata": {},
     "output_type": "execute_result"
    }
   ],
   "source": [
    "tsne_df"
   ]
  },
  {
   "cell_type": "code",
   "execution_count": 170,
   "metadata": {},
   "outputs": [],
   "source": [
    "tsne_df.to_csv('tsne_df.csv', index = False)"
   ]
  },
  {
   "cell_type": "code",
   "execution_count": 171,
   "metadata": {},
   "outputs": [
    {
     "data": {
      "text/html": [
       "<div>\n",
       "<style scoped>\n",
       "    .dataframe tbody tr th:only-of-type {\n",
       "        vertical-align: middle;\n",
       "    }\n",
       "\n",
       "    .dataframe tbody tr th {\n",
       "        vertical-align: top;\n",
       "    }\n",
       "\n",
       "    .dataframe thead th {\n",
       "        text-align: right;\n",
       "    }\n",
       "</style>\n",
       "<table border=\"1\" class=\"dataframe\">\n",
       "  <thead>\n",
       "    <tr style=\"text-align: right;\">\n",
       "      <th></th>\n",
       "      <th>cluster</th>\n",
       "      <th>Rating</th>\n",
       "    </tr>\n",
       "  </thead>\n",
       "  <tbody>\n",
       "    <tr>\n",
       "      <th>0</th>\n",
       "      <td>Cluster 1</td>\n",
       "      <td>3.044109</td>\n",
       "    </tr>\n",
       "    <tr>\n",
       "      <th>1</th>\n",
       "      <td>Cluster 2</td>\n",
       "      <td>2.838375</td>\n",
       "    </tr>\n",
       "    <tr>\n",
       "      <th>2</th>\n",
       "      <td>Cluster 3</td>\n",
       "      <td>3.118346</td>\n",
       "    </tr>\n",
       "    <tr>\n",
       "      <th>3</th>\n",
       "      <td>Cluster 4</td>\n",
       "      <td>2.978736</td>\n",
       "    </tr>\n",
       "    <tr>\n",
       "      <th>4</th>\n",
       "      <td>Cluster 5</td>\n",
       "      <td>2.224090</td>\n",
       "    </tr>\n",
       "  </tbody>\n",
       "</table>\n",
       "</div>"
      ],
      "text/plain": [
       "     cluster    Rating\n",
       "0  Cluster 1  3.044109\n",
       "1  Cluster 2  2.838375\n",
       "2  Cluster 3  3.118346\n",
       "3  Cluster 4  2.978736\n",
       "4  Cluster 5  2.224090"
      ]
     },
     "execution_count": 171,
     "metadata": {},
     "output_type": "execute_result"
    }
   ],
   "source": [
    "tsne_df.groupby('cluster')['Rating'].mean().reset_index()"
   ]
  },
  {
   "cell_type": "code",
   "execution_count": 172,
   "metadata": {},
   "outputs": [
    {
     "data": {
      "application/vnd.plotly.v1+json": {
       "config": {
        "plotlyServerURL": "https://plot.ly"
       },
       "data": [
        {
         "alignmentgroup": "True",
         "hovertemplate": "cluster=%{y}<br>Average Rating=%{text}<extra></extra>",
         "legendgroup": "Cluster 1",
         "marker": {
          "color": "#636efa",
          "pattern": {
           "shape": ""
          }
         },
         "name": "Cluster 1",
         "offsetgroup": "Cluster 1",
         "orientation": "h",
         "showlegend": true,
         "text": [
          3.044
         ],
         "textposition": "auto",
         "type": "bar",
         "x": [
          3.044
         ],
         "xaxis": "x",
         "y": [
          "Cluster 1"
         ],
         "yaxis": "y"
        },
        {
         "alignmentgroup": "True",
         "hovertemplate": "cluster=%{y}<br>Average Rating=%{text}<extra></extra>",
         "legendgroup": "Cluster 2",
         "marker": {
          "color": "#EF553B",
          "pattern": {
           "shape": ""
          }
         },
         "name": "Cluster 2",
         "offsetgroup": "Cluster 2",
         "orientation": "h",
         "showlegend": true,
         "text": [
          2.838
         ],
         "textposition": "auto",
         "type": "bar",
         "x": [
          2.838
         ],
         "xaxis": "x",
         "y": [
          "Cluster 2"
         ],
         "yaxis": "y"
        },
        {
         "alignmentgroup": "True",
         "hovertemplate": "cluster=%{y}<br>Average Rating=%{text}<extra></extra>",
         "legendgroup": "Cluster 3",
         "marker": {
          "color": "#00cc96",
          "pattern": {
           "shape": ""
          }
         },
         "name": "Cluster 3",
         "offsetgroup": "Cluster 3",
         "orientation": "h",
         "showlegend": true,
         "text": [
          3.118
         ],
         "textposition": "auto",
         "type": "bar",
         "x": [
          3.118
         ],
         "xaxis": "x",
         "y": [
          "Cluster 3"
         ],
         "yaxis": "y"
        },
        {
         "alignmentgroup": "True",
         "hovertemplate": "cluster=%{y}<br>Average Rating=%{text}<extra></extra>",
         "legendgroup": "Cluster 4",
         "marker": {
          "color": "#ab63fa",
          "pattern": {
           "shape": ""
          }
         },
         "name": "Cluster 4",
         "offsetgroup": "Cluster 4",
         "orientation": "h",
         "showlegend": true,
         "text": [
          2.979
         ],
         "textposition": "auto",
         "type": "bar",
         "x": [
          2.979
         ],
         "xaxis": "x",
         "y": [
          "Cluster 4"
         ],
         "yaxis": "y"
        },
        {
         "alignmentgroup": "True",
         "hovertemplate": "cluster=%{y}<br>Average Rating=%{text}<extra></extra>",
         "legendgroup": "Cluster 5",
         "marker": {
          "color": "#FFA15A",
          "pattern": {
           "shape": ""
          }
         },
         "name": "Cluster 5",
         "offsetgroup": "Cluster 5",
         "orientation": "h",
         "showlegend": true,
         "text": [
          2.224
         ],
         "textposition": "auto",
         "type": "bar",
         "x": [
          2.224
         ],
         "xaxis": "x",
         "y": [
          "Cluster 5"
         ],
         "yaxis": "y"
        }
       ],
       "layout": {
        "barmode": "relative",
        "legend": {
         "title": {
          "text": "cluster"
         },
         "tracegroupgap": 0
        },
        "template": {
         "data": {
          "bar": [
           {
            "error_x": {
             "color": "#2a3f5f"
            },
            "error_y": {
             "color": "#2a3f5f"
            },
            "marker": {
             "line": {
              "color": "#E5ECF6",
              "width": 0.5
             },
             "pattern": {
              "fillmode": "overlay",
              "size": 10,
              "solidity": 0.2
             }
            },
            "type": "bar"
           }
          ],
          "barpolar": [
           {
            "marker": {
             "line": {
              "color": "#E5ECF6",
              "width": 0.5
             },
             "pattern": {
              "fillmode": "overlay",
              "size": 10,
              "solidity": 0.2
             }
            },
            "type": "barpolar"
           }
          ],
          "carpet": [
           {
            "aaxis": {
             "endlinecolor": "#2a3f5f",
             "gridcolor": "white",
             "linecolor": "white",
             "minorgridcolor": "white",
             "startlinecolor": "#2a3f5f"
            },
            "baxis": {
             "endlinecolor": "#2a3f5f",
             "gridcolor": "white",
             "linecolor": "white",
             "minorgridcolor": "white",
             "startlinecolor": "#2a3f5f"
            },
            "type": "carpet"
           }
          ],
          "choropleth": [
           {
            "colorbar": {
             "outlinewidth": 0,
             "ticks": ""
            },
            "type": "choropleth"
           }
          ],
          "contour": [
           {
            "colorbar": {
             "outlinewidth": 0,
             "ticks": ""
            },
            "colorscale": [
             [
              0,
              "#0d0887"
             ],
             [
              0.1111111111111111,
              "#46039f"
             ],
             [
              0.2222222222222222,
              "#7201a8"
             ],
             [
              0.3333333333333333,
              "#9c179e"
             ],
             [
              0.4444444444444444,
              "#bd3786"
             ],
             [
              0.5555555555555556,
              "#d8576b"
             ],
             [
              0.6666666666666666,
              "#ed7953"
             ],
             [
              0.7777777777777778,
              "#fb9f3a"
             ],
             [
              0.8888888888888888,
              "#fdca26"
             ],
             [
              1,
              "#f0f921"
             ]
            ],
            "type": "contour"
           }
          ],
          "contourcarpet": [
           {
            "colorbar": {
             "outlinewidth": 0,
             "ticks": ""
            },
            "type": "contourcarpet"
           }
          ],
          "heatmap": [
           {
            "colorbar": {
             "outlinewidth": 0,
             "ticks": ""
            },
            "colorscale": [
             [
              0,
              "#0d0887"
             ],
             [
              0.1111111111111111,
              "#46039f"
             ],
             [
              0.2222222222222222,
              "#7201a8"
             ],
             [
              0.3333333333333333,
              "#9c179e"
             ],
             [
              0.4444444444444444,
              "#bd3786"
             ],
             [
              0.5555555555555556,
              "#d8576b"
             ],
             [
              0.6666666666666666,
              "#ed7953"
             ],
             [
              0.7777777777777778,
              "#fb9f3a"
             ],
             [
              0.8888888888888888,
              "#fdca26"
             ],
             [
              1,
              "#f0f921"
             ]
            ],
            "type": "heatmap"
           }
          ],
          "heatmapgl": [
           {
            "colorbar": {
             "outlinewidth": 0,
             "ticks": ""
            },
            "colorscale": [
             [
              0,
              "#0d0887"
             ],
             [
              0.1111111111111111,
              "#46039f"
             ],
             [
              0.2222222222222222,
              "#7201a8"
             ],
             [
              0.3333333333333333,
              "#9c179e"
             ],
             [
              0.4444444444444444,
              "#bd3786"
             ],
             [
              0.5555555555555556,
              "#d8576b"
             ],
             [
              0.6666666666666666,
              "#ed7953"
             ],
             [
              0.7777777777777778,
              "#fb9f3a"
             ],
             [
              0.8888888888888888,
              "#fdca26"
             ],
             [
              1,
              "#f0f921"
             ]
            ],
            "type": "heatmapgl"
           }
          ],
          "histogram": [
           {
            "marker": {
             "pattern": {
              "fillmode": "overlay",
              "size": 10,
              "solidity": 0.2
             }
            },
            "type": "histogram"
           }
          ],
          "histogram2d": [
           {
            "colorbar": {
             "outlinewidth": 0,
             "ticks": ""
            },
            "colorscale": [
             [
              0,
              "#0d0887"
             ],
             [
              0.1111111111111111,
              "#46039f"
             ],
             [
              0.2222222222222222,
              "#7201a8"
             ],
             [
              0.3333333333333333,
              "#9c179e"
             ],
             [
              0.4444444444444444,
              "#bd3786"
             ],
             [
              0.5555555555555556,
              "#d8576b"
             ],
             [
              0.6666666666666666,
              "#ed7953"
             ],
             [
              0.7777777777777778,
              "#fb9f3a"
             ],
             [
              0.8888888888888888,
              "#fdca26"
             ],
             [
              1,
              "#f0f921"
             ]
            ],
            "type": "histogram2d"
           }
          ],
          "histogram2dcontour": [
           {
            "colorbar": {
             "outlinewidth": 0,
             "ticks": ""
            },
            "colorscale": [
             [
              0,
              "#0d0887"
             ],
             [
              0.1111111111111111,
              "#46039f"
             ],
             [
              0.2222222222222222,
              "#7201a8"
             ],
             [
              0.3333333333333333,
              "#9c179e"
             ],
             [
              0.4444444444444444,
              "#bd3786"
             ],
             [
              0.5555555555555556,
              "#d8576b"
             ],
             [
              0.6666666666666666,
              "#ed7953"
             ],
             [
              0.7777777777777778,
              "#fb9f3a"
             ],
             [
              0.8888888888888888,
              "#fdca26"
             ],
             [
              1,
              "#f0f921"
             ]
            ],
            "type": "histogram2dcontour"
           }
          ],
          "mesh3d": [
           {
            "colorbar": {
             "outlinewidth": 0,
             "ticks": ""
            },
            "type": "mesh3d"
           }
          ],
          "parcoords": [
           {
            "line": {
             "colorbar": {
              "outlinewidth": 0,
              "ticks": ""
             }
            },
            "type": "parcoords"
           }
          ],
          "pie": [
           {
            "automargin": true,
            "type": "pie"
           }
          ],
          "scatter": [
           {
            "fillpattern": {
             "fillmode": "overlay",
             "size": 10,
             "solidity": 0.2
            },
            "type": "scatter"
           }
          ],
          "scatter3d": [
           {
            "line": {
             "colorbar": {
              "outlinewidth": 0,
              "ticks": ""
             }
            },
            "marker": {
             "colorbar": {
              "outlinewidth": 0,
              "ticks": ""
             }
            },
            "type": "scatter3d"
           }
          ],
          "scattercarpet": [
           {
            "marker": {
             "colorbar": {
              "outlinewidth": 0,
              "ticks": ""
             }
            },
            "type": "scattercarpet"
           }
          ],
          "scattergeo": [
           {
            "marker": {
             "colorbar": {
              "outlinewidth": 0,
              "ticks": ""
             }
            },
            "type": "scattergeo"
           }
          ],
          "scattergl": [
           {
            "marker": {
             "colorbar": {
              "outlinewidth": 0,
              "ticks": ""
             }
            },
            "type": "scattergl"
           }
          ],
          "scattermapbox": [
           {
            "marker": {
             "colorbar": {
              "outlinewidth": 0,
              "ticks": ""
             }
            },
            "type": "scattermapbox"
           }
          ],
          "scatterpolar": [
           {
            "marker": {
             "colorbar": {
              "outlinewidth": 0,
              "ticks": ""
             }
            },
            "type": "scatterpolar"
           }
          ],
          "scatterpolargl": [
           {
            "marker": {
             "colorbar": {
              "outlinewidth": 0,
              "ticks": ""
             }
            },
            "type": "scatterpolargl"
           }
          ],
          "scatterternary": [
           {
            "marker": {
             "colorbar": {
              "outlinewidth": 0,
              "ticks": ""
             }
            },
            "type": "scatterternary"
           }
          ],
          "surface": [
           {
            "colorbar": {
             "outlinewidth": 0,
             "ticks": ""
            },
            "colorscale": [
             [
              0,
              "#0d0887"
             ],
             [
              0.1111111111111111,
              "#46039f"
             ],
             [
              0.2222222222222222,
              "#7201a8"
             ],
             [
              0.3333333333333333,
              "#9c179e"
             ],
             [
              0.4444444444444444,
              "#bd3786"
             ],
             [
              0.5555555555555556,
              "#d8576b"
             ],
             [
              0.6666666666666666,
              "#ed7953"
             ],
             [
              0.7777777777777778,
              "#fb9f3a"
             ],
             [
              0.8888888888888888,
              "#fdca26"
             ],
             [
              1,
              "#f0f921"
             ]
            ],
            "type": "surface"
           }
          ],
          "table": [
           {
            "cells": {
             "fill": {
              "color": "#EBF0F8"
             },
             "line": {
              "color": "white"
             }
            },
            "header": {
             "fill": {
              "color": "#C8D4E3"
             },
             "line": {
              "color": "white"
             }
            },
            "type": "table"
           }
          ]
         },
         "layout": {
          "annotationdefaults": {
           "arrowcolor": "#2a3f5f",
           "arrowhead": 0,
           "arrowwidth": 1
          },
          "autotypenumbers": "strict",
          "coloraxis": {
           "colorbar": {
            "outlinewidth": 0,
            "ticks": ""
           }
          },
          "colorscale": {
           "diverging": [
            [
             0,
             "#8e0152"
            ],
            [
             0.1,
             "#c51b7d"
            ],
            [
             0.2,
             "#de77ae"
            ],
            [
             0.3,
             "#f1b6da"
            ],
            [
             0.4,
             "#fde0ef"
            ],
            [
             0.5,
             "#f7f7f7"
            ],
            [
             0.6,
             "#e6f5d0"
            ],
            [
             0.7,
             "#b8e186"
            ],
            [
             0.8,
             "#7fbc41"
            ],
            [
             0.9,
             "#4d9221"
            ],
            [
             1,
             "#276419"
            ]
           ],
           "sequential": [
            [
             0,
             "#0d0887"
            ],
            [
             0.1111111111111111,
             "#46039f"
            ],
            [
             0.2222222222222222,
             "#7201a8"
            ],
            [
             0.3333333333333333,
             "#9c179e"
            ],
            [
             0.4444444444444444,
             "#bd3786"
            ],
            [
             0.5555555555555556,
             "#d8576b"
            ],
            [
             0.6666666666666666,
             "#ed7953"
            ],
            [
             0.7777777777777778,
             "#fb9f3a"
            ],
            [
             0.8888888888888888,
             "#fdca26"
            ],
            [
             1,
             "#f0f921"
            ]
           ],
           "sequentialminus": [
            [
             0,
             "#0d0887"
            ],
            [
             0.1111111111111111,
             "#46039f"
            ],
            [
             0.2222222222222222,
             "#7201a8"
            ],
            [
             0.3333333333333333,
             "#9c179e"
            ],
            [
             0.4444444444444444,
             "#bd3786"
            ],
            [
             0.5555555555555556,
             "#d8576b"
            ],
            [
             0.6666666666666666,
             "#ed7953"
            ],
            [
             0.7777777777777778,
             "#fb9f3a"
            ],
            [
             0.8888888888888888,
             "#fdca26"
            ],
            [
             1,
             "#f0f921"
            ]
           ]
          },
          "colorway": [
           "#636efa",
           "#EF553B",
           "#00cc96",
           "#ab63fa",
           "#FFA15A",
           "#19d3f3",
           "#FF6692",
           "#B6E880",
           "#FF97FF",
           "#FECB52"
          ],
          "font": {
           "color": "#2a3f5f"
          },
          "geo": {
           "bgcolor": "white",
           "lakecolor": "white",
           "landcolor": "#E5ECF6",
           "showlakes": true,
           "showland": true,
           "subunitcolor": "white"
          },
          "hoverlabel": {
           "align": "left"
          },
          "hovermode": "closest",
          "mapbox": {
           "style": "light"
          },
          "paper_bgcolor": "white",
          "plot_bgcolor": "#E5ECF6",
          "polar": {
           "angularaxis": {
            "gridcolor": "white",
            "linecolor": "white",
            "ticks": ""
           },
           "bgcolor": "#E5ECF6",
           "radialaxis": {
            "gridcolor": "white",
            "linecolor": "white",
            "ticks": ""
           }
          },
          "scene": {
           "xaxis": {
            "backgroundcolor": "#E5ECF6",
            "gridcolor": "white",
            "gridwidth": 2,
            "linecolor": "white",
            "showbackground": true,
            "ticks": "",
            "zerolinecolor": "white"
           },
           "yaxis": {
            "backgroundcolor": "#E5ECF6",
            "gridcolor": "white",
            "gridwidth": 2,
            "linecolor": "white",
            "showbackground": true,
            "ticks": "",
            "zerolinecolor": "white"
           },
           "zaxis": {
            "backgroundcolor": "#E5ECF6",
            "gridcolor": "white",
            "gridwidth": 2,
            "linecolor": "white",
            "showbackground": true,
            "ticks": "",
            "zerolinecolor": "white"
           }
          },
          "shapedefaults": {
           "line": {
            "color": "#2a3f5f"
           }
          },
          "ternary": {
           "aaxis": {
            "gridcolor": "white",
            "linecolor": "white",
            "ticks": ""
           },
           "baxis": {
            "gridcolor": "white",
            "linecolor": "white",
            "ticks": ""
           },
           "bgcolor": "#E5ECF6",
           "caxis": {
            "gridcolor": "white",
            "linecolor": "white",
            "ticks": ""
           }
          },
          "title": {
           "x": 0.05
          },
          "xaxis": {
           "automargin": true,
           "gridcolor": "white",
           "linecolor": "white",
           "ticks": "",
           "title": {
            "standoff": 15
           },
           "zerolinecolor": "white",
           "zerolinewidth": 2
          },
          "yaxis": {
           "automargin": true,
           "gridcolor": "white",
           "linecolor": "white",
           "ticks": "",
           "title": {
            "standoff": 15
           },
           "zerolinecolor": "white",
           "zerolinewidth": 2
          }
         }
        },
        "title": {
         "text": "Average Rating per Cluster <br><sup>Clusters Obtained from K-means Clustering Algorithm</sup>"
        },
        "xaxis": {
         "anchor": "y",
         "domain": [
          0,
          1
         ],
         "title": {
          "text": "Average Rating"
         }
        },
        "yaxis": {
         "anchor": "x",
         "categoryarray": [
          "Cluster 5",
          "Cluster 4",
          "Cluster 3",
          "Cluster 2",
          "Cluster 1"
         ],
         "categoryorder": "array",
         "domain": [
          0,
          1
         ],
         "title": {
          "text": "cluster"
         }
        }
       }
      }
     },
     "metadata": {},
     "output_type": "display_data"
    }
   ],
   "source": [
    "px.bar(tsne_df.groupby('cluster')['Rating'].mean().reset_index().rename(columns = {'Rating':'Average Rating'}).round(3), y = 'cluster', x = 'Average Rating', color = 'cluster', text = 'Average Rating',\n",
    "                                                            title = 'Average Rating per Cluster <br><sup>Clusters Obtained from K-means Clustering Algorithm</sup>')"
   ]
  },
  {
   "attachments": {},
   "cell_type": "markdown",
   "metadata": {},
   "source": [
    "# Ridgeline"
   ]
  },
  {
   "cell_type": "code",
   "execution_count": 173,
   "metadata": {},
   "outputs": [],
   "source": [
    "# Average rating\n",
    "df['Avg_rating'] = df['Clip_ID'].map(df.groupby('Clip_ID')['Rating'].mean().to_dict())\n",
    "df_example = df[df['Clip_ID'].isin(['1c', '2c', '3c', '4c', '5c', '6c', '7c', '8c', '9c', '10c', '11c', '12c'])].reset_index(drop = True)"
   ]
  },
  {
   "cell_type": "code",
   "execution_count": 174,
   "metadata": {},
   "outputs": [],
   "source": [
    "cat_clip = CategoricalDtype(\n",
    "    df_example.sort_values(by = 'Avg_rating')['Clip_ID'].unique()\n",
    ")"
   ]
  },
  {
   "cell_type": "code",
   "execution_count": 175,
   "metadata": {},
   "outputs": [],
   "source": [
    "df_example['Clip_ID'] = df_example['Clip_ID'].astype(cat_clip)"
   ]
  },
  {
   "cell_type": "code",
   "execution_count": 176,
   "metadata": {},
   "outputs": [
    {
     "name": "stderr",
     "output_type": "stream",
     "text": [
      "/Users/tahaerensarnic/Desktop/contagious-viz/venv/lib/python3.9/site-packages/joypy/joyplot.py:435: UserWarning:\n",
      "\n",
      "To output multiple subplots, the figure containing the passed axes is being cleared.\n",
      "\n"
     ]
    },
    {
     "data": {
      "image/png": "[encoded data removed]",
      "text/plain": [
       "<Figure size 640x480 with 13 Axes>"
      ]
     },
     "metadata": {},
     "output_type": "display_data"
    }
   ],
   "source": [
    "fig, ax = plt.subplots()\n",
    "\n",
    "joyplot(\n",
    "    data=df_example,\n",
    "    column = 'Rating',\n",
    "    by='Clip_ID',\n",
    "    colormap=cm.autumn, fade = True,\n",
    "    range_style='own', figsize = (6,6),\n",
    "    ax = ax\n",
    "\n",
    ")\n",
    "plt.title('Distribution of Ratings per Clip', fontsize=15)\n",
    "plt.show()"
   ]
  },
  {
   "cell_type": "code",
   "execution_count": 177,
   "metadata": {},
   "outputs": [],
   "source": [
    "def rating_cat(data):\n",
    "    if data >= 1.17 and data < 2.45:\n",
    "        return 'Not Contagious'\n",
    "    elif data >= 2.45 and data < 2.88:\n",
    "        return 'Contagious'\n",
    "    elif data >= 2.88 and data < 3.22:\n",
    "        return 'More Contagious'\n",
    "    else:\n",
    "        return 'Most Contagious'"
   ]
  },
  {
   "cell_type": "code",
   "execution_count": 178,
   "metadata": {},
   "outputs": [],
   "source": [
    "df['rating_categories'] = df['Avg_rating'].apply(rating_cat)"
   ]
  },
  {
   "cell_type": "code",
   "execution_count": 179,
   "metadata": {},
   "outputs": [
    {
     "data": {
      "text/html": [
       "<div>\n",
       "<style scoped>\n",
       "    .dataframe tbody tr th:only-of-type {\n",
       "        vertical-align: middle;\n",
       "    }\n",
       "\n",
       "    .dataframe tbody tr th {\n",
       "        vertical-align: top;\n",
       "    }\n",
       "\n",
       "    .dataframe thead th {\n",
       "        text-align: right;\n",
       "    }\n",
       "</style>\n",
       "<table border=\"1\" class=\"dataframe\">\n",
       "  <thead>\n",
       "    <tr style=\"text-align: right;\">\n",
       "      <th></th>\n",
       "      <th>mean</th>\n",
       "      <th>std</th>\n",
       "    </tr>\n",
       "  </thead>\n",
       "  <tbody>\n",
       "    <tr>\n",
       "      <th>0</th>\n",
       "      <td>1.360000</td>\n",
       "      <td>0.920514</td>\n",
       "    </tr>\n",
       "    <tr>\n",
       "      <th>1</th>\n",
       "      <td>2.737864</td>\n",
       "      <td>1.162833</td>\n",
       "    </tr>\n",
       "    <tr>\n",
       "      <th>2</th>\n",
       "      <td>3.427083</td>\n",
       "      <td>1.220395</td>\n",
       "    </tr>\n",
       "    <tr>\n",
       "      <th>3</th>\n",
       "      <td>3.220930</td>\n",
       "      <td>1.259329</td>\n",
       "    </tr>\n",
       "    <tr>\n",
       "      <th>4</th>\n",
       "      <td>2.247788</td>\n",
       "      <td>1.193158</td>\n",
       "    </tr>\n",
       "    <tr>\n",
       "      <th>...</th>\n",
       "      <td>...</td>\n",
       "      <td>...</td>\n",
       "    </tr>\n",
       "    <tr>\n",
       "      <th>121</th>\n",
       "      <td>3.415094</td>\n",
       "      <td>1.278898</td>\n",
       "    </tr>\n",
       "    <tr>\n",
       "      <th>122</th>\n",
       "      <td>2.838710</td>\n",
       "      <td>1.163674</td>\n",
       "    </tr>\n",
       "    <tr>\n",
       "      <th>123</th>\n",
       "      <td>3.178571</td>\n",
       "      <td>1.213982</td>\n",
       "    </tr>\n",
       "    <tr>\n",
       "      <th>124</th>\n",
       "      <td>3.086331</td>\n",
       "      <td>1.099947</td>\n",
       "    </tr>\n",
       "    <tr>\n",
       "      <th>125</th>\n",
       "      <td>2.922481</td>\n",
       "      <td>1.433929</td>\n",
       "    </tr>\n",
       "  </tbody>\n",
       "</table>\n",
       "<p>126 rows × 2 columns</p>\n",
       "</div>"
      ],
      "text/plain": [
       "         mean       std\n",
       "0    1.360000  0.920514\n",
       "1    2.737864  1.162833\n",
       "2    3.427083  1.220395\n",
       "3    3.220930  1.259329\n",
       "4    2.247788  1.193158\n",
       "..        ...       ...\n",
       "121  3.415094  1.278898\n",
       "122  2.838710  1.163674\n",
       "123  3.178571  1.213982\n",
       "124  3.086331  1.099947\n",
       "125  2.922481  1.433929\n",
       "\n",
       "[126 rows x 2 columns]"
      ]
     },
     "execution_count": 179,
     "metadata": {},
     "output_type": "execute_result"
    }
   ],
   "source": [
    "df.groupby('Clip_ID').agg({\n",
    "            'Rating':['mean', 'std']\n",
    "        }).reset_index()['Rating']"
   ]
  }
 ],
 "metadata": {
  "kernelspec": {
   "display_name": "venv",
   "language": "python",
   "name": "python3"
  },
  "language_info": {
   "codemirror_mode": {
    "name": "ipython",
    "version": 3
   },
   "file_extension": ".py",
   "mimetype": "text/x-python",
   "name": "python",
   "nbconvert_exporter": "python",
   "pygments_lexer": "ipython3",
   "version": "3.9.13"
  },
  "orig_nbformat": 4,
  "vscode": {
   "interpreter": {
    "hash": "fbc9579778a561bdc8567082005b19f0f528218e0fd89ffa1b676f9d227b4200"
   }
  }
 },
 "nbformat": 4,
 "nbformat_minor": 2
}
